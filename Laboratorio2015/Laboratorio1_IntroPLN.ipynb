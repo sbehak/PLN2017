{
 "cells": [
  {
   "cell_type": "code",
   "execution_count": 1,
   "metadata": {
    "scrolled": true
   },
   "outputs": [
    {
     "name": "stdout",
     "output_type": "stream",
     "text": [
      "START: 2015-11-23 18:35:30.577963\n"
     ]
    },
    {
     "name": "stderr",
     "output_type": "stream",
     "text": [
      "C:\\Users\\fkauffman\\Anaconda3\\lib\\site-packages\\sklearn\\utils\\fixes.py:64: DeprecationWarning: inspect.getargspec() is deprecated, use inspect.signature() instead\n",
      "  if 'order' in inspect.getargspec(np.copy)[0]:\n"
     ]
    }
   ],
   "source": [
    "# Se importan las librerias correspondientes\n",
    "import nltk\n",
    "from nltk.corpus import stopwords\n",
    "import pandas\n",
    "import numpy as np\n",
    "import utils_pln as utl # Archivo con utilitarios, los mismos se separaron del notebook para no sobrecargarlo\n",
    "from sklearn.cross_validation import train_test_split\n",
    "from sklearn import cross_validation\n",
    "import datetime\n",
    "\n",
    "print(\"START: \" + str(datetime.datetime.now()))"
   ]
  },
  {
   "cell_type": "markdown",
   "metadata": {},
   "source": [
    "### 1. Importamos el corpus de comentarios\n",
    "\n",
    "Pandas es una biblioteca de código abierto implementada en Python la cual permite realizar una fácil manipulación y análisis de los datos.\n",
    "Esta se utilizó para cargar los datos en memoria y realizar un breve análisis de los mismos."
   ]
  },
  {
   "cell_type": "code",
   "execution_count": 2,
   "metadata": {
    "collapsed": true,
    "scrolled": true
   },
   "outputs": [],
   "source": [
    "# Se carga en 'datos' el archivo csv en memoria\n",
    "datos = pandas.read_csv(\"comentarios_peliculas.csv\", skiprows=1, delimiter=';', skip_blank_lines=True, encoding='utf-8')"
   ]
  },
  {
   "cell_type": "markdown",
   "metadata": {},
   "source": [
    "### 2. Características del corpus\n",
    "Para conocer acerca del corpus sobre el cual se trabajará se realiza un breve análisis de los datos. Para ello se obtiene la cantidad de filas y columnas que el dataset posee; donde las filas corresponden a los comentarios y las columnas a los atributos asociados a los mismos. Por otro lado se obtiene la cantidad de peliculas del corpus, la cantidad de comentarios para cada película, en el que se realiza un ploteo, entre otros. A su vez se listan esos atributos junto a su tipo asociado. Una vez hecho esto se procede a chequear de que los atributos de los comentarios tengan o no valores faltantes, ya que en caso de tenerlos hay que tomar una decisión en base a qué hacer con los mismos (existen varias técnicas para este tratamiento). "
   ]
  },
  {
   "cell_type": "code",
   "execution_count": 3,
   "metadata": {
    "scrolled": true
   },
   "outputs": [
    {
     "name": "stdout",
     "output_type": "stream",
     "text": [
      "Hay una cantidad de 127 películas en el corpus.\n",
      "El corpus posee 1447 comentarios con 9 atributos por cada uno de ellos.\n",
      "\n",
      "Cantidad de comentarios asociados a cada película:\n",
      "\n",
      "Relatos salvajes                                      69\n",
      "A 60 km/h                                             55\n",
      "Mr. Kaplan                                            49\n",
      "Cincuenta sombras de Grey                             46\n",
      "Sin hijos                                             41\n",
      "El Gran Hotel Budapest                                36\n",
      "23 segundos                                           35\n",
      "Intensa-Mente                                         32\n",
      "Directo al corazón                                    28\n",
      "Tus padres volverán                                   26\n",
      "El planeta de los simios: confrontación               26\n",
      "Betibú                                                24\n",
      "Maléfica                                              21\n",
      "Noé                                                   21\n",
      "Luna de miel en familia                               21\n",
      "Guardianes de la Galaxia                              21\n",
      "La dama de oro                                        20\n",
      "Operación Monumento                                   20\n",
      "Mundo Jurásico                                        20\n",
      "Avant                                                 20\n",
      "Cómo entrenar a tu dragón 2                           20\n",
      "Bajo la misma estrella                                20\n",
      "Búsqueda implacable 3                                 20\n",
      "Avengers: era de Ultrón                               19\n",
      "Rápidos y furiosos 7                                  18\n",
      "Mad Max: furia en el camino                           18\n",
      "Las aventuras de Peabody y Sherman                    18\n",
      "Non-Stop: sin escalas                                 18\n",
      "El padre de Gardel                                    18\n",
      "Rio 2                                                 17\n",
      "                                                      ..\n",
      "Mujeres al ataque!                                     4\n",
      "Dos locas en fuga                                      3\n",
      "Pompeii                                                3\n",
      "Código Sombra: Jack Ryan                               3\n",
      "Poltergeist: juegos diabólicos                         3\n",
      "Osos                                                   3\n",
      "Violetta: En Concierto                                 3\n",
      "La leyenda de Hércules                                 3\n",
      "Los 4 Fantásticos                                      3\n",
      "Cobain - Montage of Heck                               2\n",
      "True Detective                                         2\n",
      "Cine Arte del Sodre - Los Musicales                    2\n",
      "Plano Americano: charlas entre cineastas uruguayos     2\n",
      "Cine Arte del Sodre - Cine de Matinée                  2\n",
      "Resucitados                                            2\n",
      "Las novias de mis amigos                               2\n",
      "La Murga, ópera popular                                1\n",
      "15 Festival Internacional de Escuelas de Cine          1\n",
      "Domingos Cerrados – Cine y Gastronomía                 1\n",
      "Cineclub CCE - Lo diferente no es peor                 1\n",
      "McFarland: Sin límites                                 1\n",
      "El viaje más largo                                     1\n",
      "Heredero del diablo                                    1\n",
      "Aviones 2: equipo de rescate                           1\n",
      "Un golpe de talento                                    1\n",
      "La Pedrera Short Film Festival #11                     1\n",
      "Muppets 2: los más buscados                            1\n",
      "In-actividad paranormal                                1\n",
      "1ª Muestra de Avant Premières de Cine Francés          1\n",
      "Cine Arte del Sodre: Los Musicales 2                   1\n",
      "Name: Título, dtype: int64\n"
     ]
    }
   ],
   "source": [
    "# Se obtiene cantidad peliculas, de comentarios y cantidad de atributos\n",
    "cantPeliculas = len(datos.ix[:,0].unique())\n",
    "cantComentarios = len(datos.index)\n",
    "cantAtributos = len(datos.columns)\n",
    "\n",
    "# Se imprimen los datos obtenidos anteriormente junto a sus tipos de datos\n",
    "print (\"Hay una cantidad de \" + str(cantPeliculas) + \" películas en el corpus.\")\n",
    "print (\"El corpus posee \" + str(cantComentarios) + \" comentarios con \" + str(cantAtributos) + \" atributos por cada uno de ellos.\")\n",
    "\n",
    "# Se imprime la cantidad de comentarios para cada pelicula\n",
    "print (\"\\nCantidad de comentarios asociados a cada película:\\n\")\n",
    "print (datos.ix[:,0].value_counts())"
   ]
  },
  {
   "cell_type": "code",
   "execution_count": 4,
   "metadata": {
    "scrolled": true
   },
   "outputs": [
    {
     "data": {
      "image/png": "[encoded data removed]",
      "text/plain": [
       "<matplotlib.figure.Figure at 0xae96e19fd0>"
      ]
     },
     "metadata": {},
     "output_type": "display_data"
    }
   ],
   "source": [
    "# Se importa la libreria para utilizar plot\n",
    "# Además se plotea en el própio notebook y no como una ventana nueva\n",
    "%matplotlib inline\n",
    "from pylab import *\n",
    "\n",
    "# Se realiza una gráfica de cantidad de comentarios en función de su clasificación\n",
    "gruposCalificacion = datos.groupby([u'Calificación']).groups\n",
    "keyClasificacion = gruposCalificacion.keys()\n",
    "cantClasificacion = []\n",
    "for k in keyClasificacion:\n",
    "    cantClasificacion.append(len(gruposCalificacion.get(k)))    \n",
    "pos = arange(len(keyClasificacion)) + 0.5 \n",
    "\n",
    "figure(1)\n",
    "barh(pos,cantClasificacion, align='center')\n",
    "yticks(pos, list(keyClasificacion))\n",
    "xlabel('Cantidad de comentarios')\n",
    "ylabel(u'Clasificación')\n",
    "title(u'Grafica cantidad de comentarios por clasificación')\n",
    "grid(True)\n",
    "show()"
   ]
  },
  {
   "cell_type": "code",
   "execution_count": 5,
   "metadata": {
    "scrolled": true
   },
   "outputs": [
    {
     "name": "stdout",
     "output_type": "stream",
     "text": [
      "\n",
      "Cantidad de comentarios asociados a cada calificación:\n",
      "\n",
      "5    505\n",
      "4    354\n",
      "1    225\n",
      "3    222\n",
      "2    141\n",
      "Name: Calificación, dtype: int64\n"
     ]
    }
   ],
   "source": [
    "#Se imprime la cantidad de comentarios asociados a cada clase (es decir cantidad de comentarios por calificación)\n",
    "print (\"\\nCantidad de comentarios asociados a cada calificación:\\n\")\n",
    "print (datos.ix[:,7].value_counts())"
   ]
  },
  {
   "cell_type": "code",
   "execution_count": 6,
   "metadata": {
    "scrolled": true
   },
   "outputs": [
    {
     "name": "stdout",
     "output_type": "stream",
     "text": [
      "A continuación se listan los atributos con su tipo asociado:\n",
      "\n",
      "Título          object\n",
      "Año              int64\n",
      "Estrellas        int64\n",
      "Género          object\n",
      "Duración        object\n",
      "Reseña          object\n",
      "ComTexto        object\n",
      "Calificación     int64\n",
      "ComFechaHora    object\n",
      "dtype: object\n"
     ]
    }
   ],
   "source": [
    "print (\"A continuación se listan los atributos con su tipo asociado:\\n\")\n",
    "print (datos.dtypes)"
   ]
  },
  {
   "cell_type": "code",
   "execution_count": 7,
   "metadata": {
    "scrolled": true
   },
   "outputs": [
    {
     "name": "stdout",
     "output_type": "stream",
     "text": [
      "No hay valores faltantes para el tributo Título\n",
      "No hay valores faltantes para el tributo Año\n",
      "No hay valores faltantes para el tributo Estrellas\n",
      "No hay valores faltantes para el tributo Género\n",
      "No hay valores faltantes para el tributo Duración\n",
      "No hay valores faltantes para el tributo Reseña\n",
      "No hay valores faltantes para el tributo ComTexto\n",
      "No hay valores faltantes para el tributo Calificación\n",
      "No hay valores faltantes para el tributo ComFechaHora\n"
     ]
    }
   ],
   "source": [
    "# Se chequea si los atributos poseen o no valores faltantes\n",
    "# Para ello se recorren todos los atributos (columnas de 'datos')\n",
    "for atributo in datos.columns:\n",
    "    \n",
    "    # Se obtiene la cantidad de valores distinto de vacio del atributo \n",
    "    cantValoresAtributo = datos[atributo].describe()['count']\n",
    "    \n",
    "    # Si hay menos que la cantidad de comentarios de 'datos' -> hay valores faltantes\n",
    "    if(cantComentarios > cantValoresAtributo):\n",
    "        print (\"Hay valores faltantes para el atributo \" + atributo)\n",
    "    else:\n",
    "        print (\"No hay valores faltantes para el tributo \" + atributo)"
   ]
  },
  {
   "cell_type": "markdown",
   "metadata": {},
   "source": [
    "### 3. Descartamos columnas innecesarias\n",
    "En esta sección se descartan las columnas (atributos) que se consideran innecesarios. En particular las columnas que creemos se consideran necesarias son solamente las columnas de los comentarios y los puntajes asociados a dichos comentarios. Por lo que se procede a eliminar el resto."
   ]
  },
  {
   "cell_type": "code",
   "execution_count": 8,
   "metadata": {
    "scrolled": true
   },
   "outputs": [
    {
     "name": "stdout",
     "output_type": "stream",
     "text": [
      "                                               ComTexto  Calificación\n",
      "0     Muchas gracias, vi online los primeros 4, lueg...             4\n",
      "1           La mejor serie desde Los Soprano y The Wire             5\n",
      "2     Llega un punto en el que aburre. Es un plato b...             2\n",
      "3     En realidad no es una respuesta , es una corre...             1\n",
      "4     Ahora entiendo menos. El libro en que se basa ...             1\n",
      "5     Una pena desperdiciar un buen elenco y obviame...             1\n",
      "6     MAGISTRAL!! excelente la recreación de época. ...             5\n",
      "7                             es una película mui padre             5\n",
      "8     EXCELENTE! GENIAL! Esperaba ir a ver con mi hi...             5\n",
      "9     Muy, muy buena...para grandes y chicos. Tiene ...             5\n",
      "10    Excelente película, muy original y divertida. ...             5\n",
      "11    Muy buena película, muy graciosa y de humor ba...             4\n",
      "12    Muy linda película. La fui a ver con mi hija, ...             4\n",
      "13    Linda película, buen mensaje y muy buenos efec...             4\n",
      "14    tambien me encanto la pelicula tu comentario e...             5\n",
      "15    la mejor peli que vi no hay ninguna cosa mejor...             5\n",
      "16    Excelente pelicula. Seguramente sea una de las...             4\n",
      "17    Pelicula propaganda. Resumen de la trama: USA ...             1\n",
      "18                        Muy buena pelicula de accion.             4\n",
      "19    Otro film de accion sostenido por Kevin Costne...             2\n",
      "20                Un bayago, no gasten un peso en esto.             1\n",
      "21    Qué nos queda si a Spartacus le sacamos la san...             2\n",
      "22    Bastante entretenida y absolutamente olvidable...             2\n",
      "23    pelicula aburrida en algunas ecsenas pero con ...             3\n",
      "24    Excelente, como todas las películas de Marvel,...             5\n",
      "25                                             la rompe             5\n",
      "26    Excelente pelicula desde todo punto de vistas,...             4\n",
      "27    Cumple sobradamente lo que promete. Y no hablo...             4\n",
      "28    muy buena, pero el 3d aun no esta bien logrado...             4\n",
      "29    Excelente película! Un enfoque distinto a lo q...             5\n",
      "...                                                 ...           ...\n",
      "1417  Me encantó la película, me emocionó hasta el b...             5\n",
      "1418  Aceptable, por momentos conmovedora y emotiva,...             2\n",
      "1419  Tuve la oportunidad de ver la película y me ag...             5\n",
      "1420  A mí la película me gustó mucho. Su realizació...             5\n",
      "1421  Fui al estreno en día de ayer...y la verdad me...             5\n",
      "1422  Excelente. Sin palabras. Una película muy sens...             5\n",
      "1423  Si estás buscando algo distinto esta es la pel...             5\n",
      "1424  Al fin veo una película de la época de la dict...             5\n",
      "1425  Lo siento pero creo que vimos películas comple...             5\n",
      "1426  Véanla!!! No se la pueden perder. Muy interesa...             5\n",
      "1427  La vi anoche, tenía espectativa, una pena, no ...             1\n",
      "1428  Excelente!!! Te mantiene expectante de princip...             5\n",
      "1429  La tres para mi es la mejor, Pero esta buena, ...             3\n",
      "1430  Entretenida, con humor de principio a fin. Ale...             3\n",
      "1431  Buena película de acción, con hermosas vistas ...             4\n",
      "1432  Buena para lo que son las peliculas de aventur...             4\n",
      "1433  Buena pelicula de acción.  Si viste las anteri...             3\n",
      "1434                         Mediocre, no aporta mucho.             2\n",
      "1435  MUY BUENA PELICULA Y MUY ACTUAL DEMUESTRA LO P...             4\n",
      "1436  Esta bien personalmente me gusto ,a pesar que ...             3\n",
      "1437  Aceptable, bien los actores, la trama se basa ...             2\n",
      "1438  Fui con unas amigas, no nos dejaron entrar x n...             1\n",
      "1439  Malísima. No esperaba que fuera mejor que el l...             1\n",
      "1440  me gusto pero no es que me encanto porque la v...             3\n",
      "1441  Lenta. No es lo que esperaba ni mucho menos. L...             1\n",
      "1442                    Mala. Muy lenta. Sin argumento.             2\n",
      "1443  No es buena, pasan 80% de la película introduc...             1\n",
      "1444  Mala. Malísima. No vale ni verla por la tele. ...             1\n",
      "1445  La peor película de Marvel de los últimos tiem...             1\n",
      "1446                                    Qué buenisimo!!             5\n",
      "\n",
      "[1447 rows x 2 columns]\n"
     ]
    }
   ],
   "source": [
    "# Se descartan de 'datos' las columnas innecesarias, dejando solamente los comentarios y sus calificaciones\n",
    "datos.drop(datos.columns[[0,1,2,3,4,5,8]],inplace=True,axis=1)\n",
    "comentarios_peliculas = datos\n",
    "# Se imprime un resumen de los datos\n",
    "print (comentarios_peliculas)"
   ]
  },
  {
   "cell_type": "markdown",
   "metadata": {},
   "source": [
    "### 3. Preprocesamiento de los comentarios\n",
    "El corpus sobre el cual se trabaja puede contener datos con ruido en su contenido. Es decir, diversos elementos que están mezclados en el contenido pero que además de que no aportan nada a la tarea de clasificación, generan ruido dificultando las tareas posteriores. Para ello entonces se procede a realizar el preprocesamiento de los comentarios."
   ]
  },
  {
   "cell_type": "code",
   "execution_count": 9,
   "metadata": {
    "scrolled": true
   },
   "outputs": [],
   "source": [
    "# Se limpian los datos y se los convierte a una lista de tuplas para su facil manipualacion.\n",
    "comentarios_peliculas = utl.convert_to_list(utl.depurar_comentarios(comentarios_peliculas))"
   ]
  },
  {
   "cell_type": "markdown",
   "metadata": {},
   "source": [
    "### 4. Separamos entrenamiento y testeo \n",
    "Una vez llegado este punto se divide la lista obtenida en el paso anterior en conjuntos de entrenamiento y testeo, para primero entrenar el algoritmo y luego testearlo.\n",
    "Para poder entrenar y testear un algoritmo de aprendizaje, como se mencionó, es necesario primero particionar los datos en dos conjuntos disjuntos de entrenamiento y testeo. Se separarán aleatoriamente un 20% de los datos para testeo y el 80% restante se utilizará para el entrenamiento. Para esto se utilizó la función train_test_split del paquete cross_validation de sklearn."
   ]
  },
  {
   "cell_type": "code",
   "execution_count": 10,
   "metadata": {
    "scrolled": true
   },
   "outputs": [
    {
     "name": "stdout",
     "output_type": "stream",
     "text": [
      "1157\n",
      "290\n"
     ]
    }
   ],
   "source": [
    "# Se divide el conjunto de datos en train (80%) y test (20%)\n",
    "datos_train, datos_test = train_test_split(comentarios_peliculas, test_size=0.2)\n",
    "\n",
    "# Se chequean las cantidades de la división\n",
    "print (len(datos_train))\n",
    "print (len(datos_test))"
   ]
  },
  {
   "cell_type": "markdown",
   "metadata": {},
   "source": [
    "### 4. Tokenización NLTK\n",
    "En esta sección se realiza el proceso de tokenización de los textos utilizando la biblioteca NLTK. Además se convierte a un formato suceptible para la clasificación. Es decir, se tokenizan los comentarios y se calcula el diccionario de palabras frecuentes del mismo. En base a ello y al valor de clasificación asociado se crea una tupla la cual corresponde al comentario analizado. Luego estas tuplas (una por cada comentario) son la entrada para el entrenamiento del algoritmo Entropía Máxima provisto por NLTK."
   ]
  },
  {
   "cell_type": "code",
   "execution_count": 11,
   "metadata": {
    "scrolled": false
   },
   "outputs": [
    {
     "name": "stdout",
     "output_type": "stream",
     "text": [
      "({'ampliamente': 1, ',': 1, ')': 1, 'rápido': 1, 'recomendable': 1, 'cine': 1, 'fin': 1, 'bien': 1, 'en': 1, 'del': 1, 'tiempos': 1, 'película': 1, 'actuaciones': 1, 'la': 1, 'film': 1, 'las': 1, 'ironía': 1, 'y': 1, 'también': 1, 'estos': 1, 'mega': 1, 'están': 1, 'por': 1, '!': 2, 'musicalización': 1, 'tarde': 1, '(': 1, 'buena': 1, 'furioso': 1, 'eventos': 1, '.': 4, 'de': 2, 'excelente': 1, 'como': 2, 'una': 1, 'muy': 2, 'así': 1, 'socioculturales': 1, 'buen': 1}, 'pos')\n"
     ]
    }
   ],
   "source": [
    "datos_train_tokenizados_nltk = utl.tokenizar_nltk(datos_train)\n",
    "\n",
    "#Se imprime el primer comentario tokenizado, cada palabra aparece junto a la cantidad de veces\n",
    "# que ocurre en el comentario y ademas se imprime la clasificacion del comentario.\n",
    "print (datos_train_tokenizados_nltk[0])"
   ]
  },
  {
   "cell_type": "markdown",
   "metadata": {},
   "source": [
    "### 6. Entrenamiento y evaluación\n",
    "Una vez de tener los datos en un formato aceptable para los algoritmos de entrenamiento y particionado los mismos en test y train, se procede a realizar el entrenamiento del algoritmo de Máxima Entropía."
   ]
  },
  {
   "cell_type": "code",
   "execution_count": 12,
   "metadata": {
    "scrolled": true
   },
   "outputs": [
    {
     "name": "stdout",
     "output_type": "stream",
     "text": [
      "  ==> Training (8 iterations)\n",
      "\n",
      "      Iteration    Log Likelihood    Accuracy\n",
      "      ---------------------------------------\n",
      "             1          -1.09861        0.589\n",
      "             2          -0.80447        0.750\n",
      "             3          -0.67249        0.814\n",
      "             4          -0.58510        0.864\n",
      "             5          -0.52269        0.882\n",
      "             6          -0.47562        0.890\n",
      "             7          -0.43870        0.900\n",
      "         Final          -0.40887        0.909\n"
     ]
    }
   ],
   "source": [
    "# En la siguiente linea se entrena el algoritmo con 8 iteraciones\n",
    "# Obs. El entrenamiento es bastante lento.\n",
    "clf_max_ent = nltk.classify.MaxentClassifier.train(datos_train_tokenizados_nltk,max_iter=8)"
   ]
  },
  {
   "cell_type": "markdown",
   "metadata": {},
   "source": [
    "#### Evaluacion del clasificador con los datos de test\n",
    "Luego del entrenamiento se procede a evaluar el clasificador con los datos de test, y se obtiene la matriz de confusión para poder analizar claramente los resultados, calculando la accuracy, la precisión, recall y medida F (Esto se realiza en la función getTasa)."
   ]
  },
  {
   "cell_type": "code",
   "execution_count": 14,
   "metadata": {
    "scrolled": true
   },
   "outputs": [
    {
     "name": "stdout",
     "output_type": "stream",
     "text": [
      "Matriz de confusión:\n",
      "    |   n   n   p |\n",
      "    |   e   e   o |\n",
      "    |   g   u   s |\n",
      "----+-------------+\n",
      "neg | <39> 16  24 |\n",
      "neu |   .  <3>  1 |\n",
      "pos |  28  27<152>|\n",
      "----+-------------+\n",
      "(row = reference; col = test)\n",
      "\n",
      "Accuracy:\n",
      "0.6689655172413793\n",
      "Precisión:\n",
      "\tPos: 0.7342995169082126\n",
      "\tNeu: 0.75\n",
      "\tNeg: 0.4936708860759494\n",
      "Recall:\n",
      "\tPos: 0.8587570621468926\n",
      "\tNeu: 0.06521739130434782\n",
      "\tNeg: 0.582089552238806\n",
      "F-Score:\n",
      "\tPos: 0.7916666666666667\n",
      "\tNeu: 0.12\n",
      "\tNeg: 0.5342465753424658\n"
     ]
    }
   ],
   "source": [
    "#Se imprime la tasa de acierto y la matriz de confucion\n",
    "datos_test_tokenizado_nltk = utl.tokenizar_nltk(datos_test)\n",
    "utl.getTasa(clf_max_ent,datos_test_tokenizado_nltk)"
   ]
  },
  {
   "cell_type": "markdown",
   "metadata": {},
   "source": [
    "Como se puede ver en la matriz de confusión los resultados para las tres clases aún se podrían mejorar, para esto incorporaremos diferentes tipos de features y utilizaremos otras formas de tokenización."
   ]
  },
  {
   "cell_type": "markdown",
   "metadata": {},
   "source": [
    "### 7. Incorporación de Features\n",
    "#### Palabras más frecuentes\n",
    "En esta sección se busca mejorar el clasificador utilizando como features las palabras más frecuentes, para esto se cuentan las palabras del corpus y se calcula su frecuencia. \n",
    "Se utiliza cross-validation para ajustar la cantidad de palabras más frecuentes que se utilizarán para el clasificador. Con el objetivo anterior se definen varias cantidades de palabras y se prueba con cada una de ellas, calculando un promedio del accuracy obtenido en cada iteración del cross-validation.\n",
    "\n",
    "Obs.: Este proceso demora mucho tiempo en realizarse."
   ]
  },
  {
   "cell_type": "code",
   "execution_count": null,
   "metadata": {
    "collapsed": true
   },
   "outputs": [],
   "source": [
    "# Cross valodation para el clasificador\n",
    "# Frecuencia -1 significa todas las palabras\n",
    "fecuencias = [-1, 5000, 3000, 2000, 1000, 500]\n",
    "\n",
    "accuracy_frec_cv = []\n",
    "\n",
    "for frec in fecuencias:\n",
    "    print('******************************************************************************')\n",
    "    print(\"FRECUENCIA: \" + str(frec))\n",
    "    \n",
    "    datos_train_frec = utl.filtrar(datos_train, utl.palabras_mas_frecuentes(frec,datos_train), False)\n",
    "    datos_train_tokenizados = utl.tokenizar_nltk(datos_train_frec)\n",
    "    \n",
    "    cv = cross_validation.KFold(len(datos_train_tokenizados), n_folds=10)\n",
    "    \n",
    "    accuracy = 0\n",
    "    for traincv, evalcv in cv:\n",
    "        classifier = nltk.classify.MaxentClassifier.train(datos_train_tokenizados[traincv[0]:traincv[len(traincv)-1]],max_iter=8,trace=1)\n",
    "        accuracy += nltk.classify.util.accuracy(classifier, datos_train_tokenizados[evalcv[0]:evalcv[len(evalcv)-1]])\n",
    "        \n",
    "    accuracy_avg = (accuracy / 10)\n",
    "    accuracy_frec_cv += [(frec,accuracy_avg)]\n",
    "    print('ACCURACY: ' + str(accuracy_avg))\n",
    "print (accuracy_frec_cv)"
   ]
  },
  {
   "cell_type": "markdown",
   "metadata": {},
   "source": [
    "Al finalizar el cross-validation, se calcula la cantidad de palabras que tuvo mayor accuracy promedio y se toma dicha cantidad como la cantidad óptima de palabras frecuentes. Una vez obtenido este valor, se filtran los comentarios del corpus de entrenamiento, dejando, para cada comentario, únicamente las palabras que se encuentran dentro de las palabras más frecuentes del corpus."
   ]
  },
  {
   "cell_type": "code",
   "execution_count": 16,
   "metadata": {},
   "outputs": [
    {
     "name": "stdout",
     "output_type": "stream",
     "text": [
      "Mejor cantidad de palabras frecuentes: -1\n"
     ]
    }
   ],
   "source": [
    "best_frec = utl.getBestFrec(accuracy_frec_cv)\n",
    "print(\"Mejor cantidad de palabras frecuentes: \" + str(best_frec))\n",
    "palabras_mas_frecuentes = utl.palabras_mas_frecuentes(best_frec,datos_train)\n",
    "datos_train_frec = utl.filtrar(datos_train, palabras_mas_frecuentes, False)"
   ]
  },
  {
   "cell_type": "markdown",
   "metadata": {},
   "source": [
    "Como se puede observar en el resultado anterior, la variable best_frec obtuvo el valor -1, el cual indica que la cantidad óptima de palabras son todas las palabras del corpus.\n",
    "\n",
    "Luego, se entrena un nuevo clasificador con el corpus de entrenamiento (comentarios conformados únicamente por las palabras más frecuentes del corpus) y se procede a evaluar el clasificador con el corpus de testeo como se hizo previamente."
   ]
  },
  {
   "cell_type": "code",
   "execution_count": 17,
   "metadata": {},
   "outputs": [
    {
     "name": "stdout",
     "output_type": "stream",
     "text": [
      "  ==> Training (8 iterations)\n",
      "Matriz de confusión:\n",
      "    |   n   n   p |\n",
      "    |   e   e   o |\n",
      "    |   g   u   s |\n",
      "----+-------------+\n",
      "neg | <29>  8   9 |\n",
      "neu |   .  <2>  1 |\n",
      "pos |  38  36<167>|\n",
      "----+-------------+\n",
      "(row = reference; col = test)\n",
      "\n",
      "Accuracy:\n",
      "0.6827586206896552\n",
      "Precisión:\n",
      "\tPos: 0.6929460580912863\n",
      "\tNeu: 0.6666666666666666\n",
      "\tNeg: 0.6304347826086957\n",
      "Recall:\n",
      "\tPos: 0.943502824858757\n",
      "\tNeu: 0.043478260869565216\n",
      "\tNeg: 0.43283582089552236\n",
      "F-Score:\n",
      "\tPos: 0.7990430622009568\n",
      "\tNeu: 0.08163265306122448\n",
      "\tNeg: 0.5132743362831859\n"
     ]
    }
   ],
   "source": [
    "datos_train_tokenizados_nltk = utl.tokenizar_nltk(datos_train_frec)\n",
    "    \n",
    "classifier = nltk.classify.MaxentClassifier.train(datos_train_tokenizados_nltk,max_iter=8,trace=1)\n",
    "utl.getTasa(classifier,datos_test_tokenizado_nltk)\n"
   ]
  },
  {
   "cell_type": "markdown",
   "metadata": {},
   "source": [
    "Como se puede apreciar en los resultados obtenidos, estos son similares a los anteriores, como era de esperarse.\n",
    "\n",
    "A partir de este momento, se utilizarán las n palabras más frecuentes, donde n es la mejor cantidad de palabras frecuentes ajustada mediante cross-validation."
   ]
  },
  {
   "cell_type": "markdown",
   "metadata": {},
   "source": [
    "#### Elementos subjetivos\n",
    "A continuación se incorporan como features los elementos subjetivos provistos por los docentes. Para esto se importan desde el archivo \"elementos_subjetivos.txt\" y se los transforma dejándolos en el mismo formato que el corpus de entrenamiento y se agregan a dicho corpus como comentarios de una única palabra."
   ]
  },
  {
   "cell_type": "code",
   "execution_count": 18,
   "metadata": {},
   "outputs": [],
   "source": [
    "elementos_subjetivos = utl.codificarClasificacionesSubjetivos(utl.diccionarioElementosSubjetivos(\"elementos_subjetivos.txt\"))"
   ]
  },
  {
   "cell_type": "code",
   "execution_count": 19,
   "metadata": {},
   "outputs": [],
   "source": [
    "features_nltk = datos_train_tokenizados_nltk + elementos_subjetivos"
   ]
  },
  {
   "cell_type": "markdown",
   "metadata": {},
   "source": [
    "Se entrena un clasificador con el nuevo corpus de entrenamiento y se procede a la evaluación de dicho clasificador con el corpus de testeo."
   ]
  },
  {
   "cell_type": "code",
   "execution_count": 20,
   "metadata": {
    "scrolled": true
   },
   "outputs": [
    {
     "name": "stdout",
     "output_type": "stream",
     "text": [
      "  ==> Training (8 iterations)\n",
      "Matriz de confusión:\n",
      "    |   n   n   p |\n",
      "    |   e   e   o |\n",
      "    |   g   u   s |\n",
      "----+-------------+\n",
      "neg | <28> 11  13 |\n",
      "neu |   .  <2>  1 |\n",
      "pos |  39  33<163>|\n",
      "----+-------------+\n",
      "(row = reference; col = test)\n",
      "\n",
      "Accuracy:\n",
      "0.6655172413793103\n",
      "Precisión:\n",
      "\tPos: 0.6936170212765957\n",
      "\tNeu: 0.6666666666666666\n",
      "\tNeg: 0.5384615384615384\n",
      "Recall:\n",
      "\tPos: 0.9209039548022598\n",
      "\tNeu: 0.043478260869565216\n",
      "\tNeg: 0.417910447761194\n",
      "F-Score:\n",
      "\tPos: 0.79126213592233\n",
      "\tNeu: 0.08163265306122448\n",
      "\tNeg: 0.47058823529411764\n"
     ]
    }
   ],
   "source": [
    "classifier = nltk.classify.MaxentClassifier.train(features_nltk,max_iter=8,trace=1)\n",
    "utl.getTasa(classifier,datos_test_tokenizado_nltk)"
   ]
  },
  {
   "cell_type": "markdown",
   "metadata": {},
   "source": [
    "Como se puede apreciar en los resultados obtenidos, estos vuelven a ser similares a los anteriores."
   ]
  },
  {
   "cell_type": "markdown",
   "metadata": {},
   "source": [
    "### 8. Tokenización Freeling\n",
    "Ahora se procede a realizar la tokenización utilizando Freeling.\n",
    "\n",
    "Según nuestras observaciones el resultado de esta tokenización es muy similar al obtenido durante la tokenización con NLTK, pero es posible que la tokenización con Freeling sea más precisa, debido a que es una herramienta que está hecha específicamente para el idioma español.\n",
    "\n",
    "Para probar la tokenización con Freeling, se agregaron al corpus de entrenamiento las mismas features que anteriormente (palabras más frecuentes y elementos subjetivos)."
   ]
  },
  {
   "cell_type": "code",
   "execution_count": 21,
   "metadata": {},
   "outputs": [
    {
     "name": "stdout",
     "output_type": "stream",
     "text": [
      "  ==> Training (8 iterations)\n",
      "Matriz de confusión:\n",
      "    |   n   n   p |\n",
      "    |   e   e   o |\n",
      "    |   g   u   s |\n",
      "----+-------------+\n",
      "neg | <30> 11  13 |\n",
      "neu |   .  <2>  . |\n",
      "pos |  37  33<164>|\n",
      "----+-------------+\n",
      "(row = reference; col = test)\n",
      "\n",
      "Accuracy:\n",
      "0.6758620689655173\n",
      "Precisión:\n",
      "\tPos: 0.7008547008547008\n",
      "\tNeu: 1.0\n",
      "\tNeg: 0.5555555555555556\n",
      "Recall:\n",
      "\tPos: 0.9265536723163842\n",
      "\tNeu: 0.043478260869565216\n",
      "\tNeg: 0.44776119402985076\n",
      "F-Score:\n",
      "\tPos: 0.7980535279805352\n",
      "\tNeu: 0.08333333333333333\n",
      "\tNeg: 0.4958677685950414\n"
     ]
    }
   ],
   "source": [
    "datos_train_tokenizados_freeling = utl.tokenizar_freeling(datos_train_frec)\n",
    "datos_test_tokenizados_freeling = utl.tokenizar_freeling(datos_test)\n",
    "\n",
    "features_freeling = datos_train_tokenizados_freeling + elementos_subjetivos\n",
    "\n",
    "classifier = nltk.classify.MaxentClassifier.train(features_freeling,max_iter=8,trace=1)\n",
    "utl.getTasa(classifier,datos_test_tokenizados_freeling)"
   ]
  },
  {
   "cell_type": "markdown",
   "metadata": {},
   "source": [
    "### 9. POS-tagging\n",
    "El siguiente paso en nuestra investigación es repetir el proceso anterior pero agregando información de POS-tagging.\n",
    "\n",
    "Esta información agregada la utilizamos para descartar tipos de palabras que no afectan a la hora de clasificar un comentario, como podrían ser los artículos, los nombres, etc.\n",
    "\n",
    "Luego de esto, se entrena un nuevo clasificador y se evalúa su accuracy.\n",
    "\n",
    "Obs.: En la función POS_tagging se encuentra las etiquetas EAGLES utilizadas para la selección de las features.\n"
   ]
  },
  {
   "cell_type": "code",
   "execution_count": 1,
   "metadata": {},
   "outputs": [
    {
     "ename": "NameError",
     "evalue": "name 'utl' is not defined",
     "output_type": "error",
     "traceback": [
      "\u001b[0;31m---------------------------------------------------------------------------\u001b[0m",
      "\u001b[0;31mNameError\u001b[0m                                 Traceback (most recent call last)",
      "\u001b[0;32m<ipython-input-1-500566709231>\u001b[0m in \u001b[0;36m<module>\u001b[0;34m()\u001b[0m\n\u001b[1;32m      1\u001b[0m \u001b[0;32mfrom\u001b[0m \u001b[0msubprocess\u001b[0m \u001b[0;32mimport\u001b[0m \u001b[0mPopen\u001b[0m\u001b[0;34m,\u001b[0m \u001b[0mPIPE\u001b[0m\u001b[0;34m,\u001b[0m \u001b[0mSTDOUT\u001b[0m\u001b[0;34m\u001b[0m\u001b[0m\n\u001b[0;32m----> 2\u001b[0;31m \u001b[0mdatos_train_tokenizados_pos_tagging\u001b[0m \u001b[0;34m=\u001b[0m \u001b[0mutl\u001b[0m\u001b[0;34m.\u001b[0m\u001b[0mPOS_tagging\u001b[0m\u001b[0;34m(\u001b[0m\u001b[0mdatos_train_frec\u001b[0m\u001b[0;34m)\u001b[0m\u001b[0;34m\u001b[0m\u001b[0m\n\u001b[0m\u001b[1;32m      3\u001b[0m \u001b[0mdatos_test_tokenizados_pos_tagging\u001b[0m \u001b[0;34m=\u001b[0m \u001b[0mutl\u001b[0m\u001b[0;34m.\u001b[0m\u001b[0mPOS_tagging\u001b[0m\u001b[0;34m(\u001b[0m\u001b[0mdatos_test\u001b[0m\u001b[0;34m)\u001b[0m\u001b[0;34m\u001b[0m\u001b[0m\n\u001b[1;32m      4\u001b[0m \u001b[0;34m\u001b[0m\u001b[0m\n\u001b[1;32m      5\u001b[0m \u001b[0mfeatures_pos_tagging\u001b[0m \u001b[0;34m=\u001b[0m \u001b[0mdatos_train_tokenizados_pos_tagging\u001b[0m \u001b[0;34m+\u001b[0m \u001b[0melementos_subjetivos\u001b[0m\u001b[0;34m\u001b[0m\u001b[0m\n",
      "\u001b[0;31mNameError\u001b[0m: name 'utl' is not defined"
     ]
    }
   ],
   "source": [
    "from subprocess import Popen, PIPE, STDOUT\n",
    "datos_train_tokenizados_pos_tagging = utl.POS_tagging(datos_train_frec)\n",
    "datos_test_tokenizados_pos_tagging = utl.POS_tagging(datos_test)\n",
    "\n",
    "features_pos_tagging = datos_train_tokenizados_pos_tagging + elementos_subjetivos\n",
    "\n",
    "classifier = nltk.classify.MaxentClassifier.train(features_pos_tagging,max_iter=8,trace=1)\n",
    "utl.getTasa(classifier,datos_test_tokenizados_pos_tagging)"
   ]
  },
  {
   "cell_type": "markdown",
   "metadata": {},
   "source": [
    "Si bien el accuracy de la última ejecución fue inferior al escenario anterior, en promedio, al agregar información de POS-tagging la accuracy del clasificador mejoró, debido a que esto permitió ser más riguroso con la selección de las features.\n",
    "\n",
    "En las pruebas realizadas los valores oscilaron entre 0.67 y 0.74."
   ]
  },
  {
   "cell_type": "markdown",
   "metadata": {},
   "source": [
    "### 10. Incorporación de otras features\n",
    "Para intentar mejorar nuestro clasificador incorporamos otras features. Las features agregadas fueron:\n",
    "\n",
    "- Términos no valorativos del ámbito del cine: Palabras que se pueden encontrar en un comentario sobre una película pero que no aportan a la hora de clasificar dicho comentario.\n",
    "- Caracteres especiales y signos de puntuación: Al ver las palabras más frecuentes del corpus, nos encontramos con que las palabras más frecuentes eran siempre signos de puntuación como (\"!\", \".\", \",\", etc), por lo que pensamos que se podría mejorar la precisión descartándolos.\n",
    "- Stopwords: Stopwords del español provistas por NLTK.\n",
    "\n",
    "\n",
    "Luego de la incorporación de estas features, se vuelve a probar con las tres opciones de tokenización previamente utilizadas (NLTK, Freeling, con información de POS-tagging), y verificar si se mejora la precisión con estas incorporaciones.\n"
   ]
  },
  {
   "cell_type": "code",
   "execution_count": 23,
   "metadata": {},
   "outputs": [],
   "source": [
    "dominio_cine_peliculas = open('terminosNoValorativosAmbitoCine.txt').read()\n",
    "caracteres_especiales = open('caracteres_especiales.txt').read()\n",
    "nltk_stopwords = stopwords.words('spanish')\n",
    "\n",
    "datos_train_frec = utl.filtrar(datos_train_frec, nltk_stopwords, True)\n",
    "datos_train_frec = utl.filtrar(datos_train_frec, caracteres_especiales, True)\n",
    "datos_train_frec = utl.filtrar(datos_train_frec, dominio_cine_peliculas, True)"
   ]
  },
  {
   "cell_type": "markdown",
   "metadata": {},
   "source": [
    "#### NLTK"
   ]
  },
  {
   "cell_type": "code",
   "execution_count": 24,
   "metadata": {},
   "outputs": [
    {
     "name": "stdout",
     "output_type": "stream",
     "text": [
      "  ==> Training (8 iterations)\n",
      "Matriz de confusión:\n",
      "    |   n   n   p |\n",
      "    |   e   e   o |\n",
      "    |   g   u   s |\n",
      "----+-------------+\n",
      "neg | <30>  7   8 |\n",
      "neu |   6  <9>  4 |\n",
      "pos |  31  30<165>|\n",
      "----+-------------+\n",
      "(row = reference; col = test)\n",
      "\n",
      "Accuracy:\n",
      "0.7034482758620689\n",
      "Precisión:\n",
      "\tPos: 0.7300884955752213\n",
      "\tNeu: 0.47368421052631576\n",
      "\tNeg: 0.6666666666666666\n",
      "Recall:\n",
      "\tPos: 0.9322033898305084\n",
      "\tNeu: 0.1956521739130435\n",
      "\tNeg: 0.44776119402985076\n",
      "F-Score:\n",
      "\tPos: 0.8188585607940446\n",
      "\tNeu: 0.2769230769230769\n",
      "\tNeg: 0.5357142857142857\n"
     ]
    }
   ],
   "source": [
    "datos_train_tokenizados_nltk = utl.tokenizar_nltk(datos_train_frec)\n",
    "datos_test_tokenizado_nltk = utl.tokenizar_nltk(datos_test)\n",
    "\n",
    "features_nltk = datos_train_tokenizados_nltk + elementos_subjetivos\n",
    "\n",
    "classifier = nltk.classify.MaxentClassifier.train(datos_train_tokenizados_nltk,max_iter=8,trace=1)\n",
    "utl.getTasa(classifier,datos_test_tokenizado_nltk)"
   ]
  },
  {
   "cell_type": "markdown",
   "metadata": {},
   "source": [
    "#### Freeling"
   ]
  },
  {
   "cell_type": "code",
   "execution_count": null,
   "metadata": {},
   "outputs": [
    {
     "name": "stdout",
     "output_type": "stream",
     "text": [
      "  ==> Training (8 iterations)\n",
      "Matriz de confusión:\n",
      "    |   n   n   p |\n",
      "    |   e   e   o |\n",
      "    |   g   u   s |\n",
      "----+-------------+\n",
      "neg | <43> 12  20 |\n",
      "neu |   .  <5>  2 |\n",
      "pos |  24  29<155>|\n",
      "----+-------------+\n",
      "(row = reference; col = test)\n",
      "\n",
      "Accuracy:\n",
      "0.7\n",
      "Precisión:\n",
      "\tPos: 0.7451923076923077\n",
      "\tNeu: 0.7142857142857143\n",
      "\tNeg: 0.5733333333333334\n",
      "Recall:\n",
      "\tPos: 0.8757062146892656\n",
      "\tNeu: 0.10869565217391304\n",
      "\tNeg: 0.6417910447761194\n",
      "F-Score:\n",
      "\tPos: 0.8051948051948052\n",
      "\tNeu: 0.18867924528301885\n",
      "\tNeg: 0.6056338028169014\n"
     ]
    }
   ],
   "source": [
    "#FREELING\n",
    "datos_train_tokenizados_freeling = utl.tokenizar_freeling(datos_train_frec)\n",
    "datos_test_tokenizados_freeling = utl.tokenizar_freeling(datos_test)\n",
    "\n",
    "features_freeling = datos_train_tokenizados_freeling + elementos_subjetivos\n",
    "\n",
    "classifier = nltk.classify.MaxentClassifier.train(features_freeling,max_iter=8,trace=1)\n",
    "utl.getTasa(classifier,datos_test_tokenizados_freeling)"
   ]
  },
  {
   "cell_type": "markdown",
   "metadata": {},
   "source": [
    "#### POS-tagging"
   ]
  },
  {
   "cell_type": "code",
   "execution_count": null,
   "metadata": {},
   "outputs": [],
   "source": [
    "#POS-tagging\n",
    "datos_train_tokenizados_pos_tagging = utl.POS_tagging(datos_train_frec)\n",
    "datos_test_tokenizados_pos_tagging = utl.POS_tagging(datos_test)\n",
    "\n",
    "features_POS_tagging = datos_train_tokenizados_pos_tagging + elementos_subjetivos\n",
    "\n",
    "classifier = nltk.classify.MaxentClassifier.train(features_POS_tagging,max_iter=8,trace=1)\n",
    "utl.getTasa(classifier,datos_test_tokenizados_pos_tagging)"
   ]
  },
  {
   "cell_type": "code",
   "execution_count": null,
   "metadata": {},
   "outputs": [],
   "source": [
    "print(\"END: \" + str(datetime.datetime.now()))"
   ]
  },
  {
   "cell_type": "markdown",
   "metadata": {
    "collapsed": true
   },
   "source": [
    "### 11. Conclusiones\n",
    "\n",
    "En base a los resultados obtenidos, si bien estos son aceptables, creemos que podrían ser mejorados aún más. Según el análisis realizado sobre corpus este presenta una disparidad en la distribución de comentarios por cada clase, esto sumado a que el corpus es relativamente pequeño afectó mayoritariamente de forma negativa a la clasificación de los comentarios neutros.\n",
    "\n",
    "Evaluando la media de los resultados obtenidos en base a los distintos clasificadores creados, creemos que el clasificador elaborado se comporta satisfactoriamente, especialmente teniendo en cuenta que los seres humanos se ponen de acuerdo en la valoración en aproximadamente el 80% de los casos (http://sentdex.com/sentiment-analysis/), además teniendo en cuenta que un clasificador aleatorio obtendría un 33% de accuracy ya que la probabilidad de etiquetar un comentario correctamente es de un tercio.\n",
    "\n",
    "Por otro lado, el clasificador que obtuvo mejores resultados fue el que se entrenó con el corpus tokenizado con Freeling agregando información de POS-tagging e incorporando las palabras más frecuentes y los elementos subjetivos.\n",
    "\n",
    "#### Posibles mejoras\n",
    "\n",
    "Como mencionamos anteriormente hay algunos problemas que se podrían ver solucionados incorporando algunas mejoras.\n",
    "Por ejemplo en el corpus: \n",
    "\n",
    "- Contar con ejemplos que estén distribuidos homogéneamente para poder mejorar las clasificaciones de comentarios según su clase.\n",
    "- Contar con una lista de elementos subjetivos mejorada que esté más relacionada con el ámbito del cine.\n",
    "- Utilizar otro tipo de clasificador para realizar la clasificación de los comentarios y poder realizar un análisis comparativo de los mismos. Entre ellos se podrían utilizar Naive Bayes, Árboles de Decisión, entre otros.\n"
   ]
  },
  {
   "cell_type": "markdown",
   "metadata": {},
   "source": [
    "#### Integrantes\n",
    "\n",
    "- Federico Kauffman, 4.580.929-7\n",
    "- Martín Steglich, 4.607.084-9\n",
    "- Sergio Bonilla, 4.430.955-3\n",
    "- Martín Méndez, 5.163.637-9"
   ]
  },
  {
   "cell_type": "code",
   "execution_count": null,
   "metadata": {
    "collapsed": true
   },
   "outputs": [],
   "source": []
  }
 ],
 "metadata": {
  "kernelspec": {
   "display_name": "Python 2",
   "language": "python",
   "name": "python2"
  },
  "language_info": {
   "codemirror_mode": {
    "name": "ipython",
    "version": 2
   },
   "file_extension": ".py",
   "mimetype": "text/x-python",
   "name": "python",
   "nbconvert_exporter": "python",
   "pygments_lexer": "ipython2",
   "version": "2.7.12"
  }
 },
 "nbformat": 4,
 "nbformat_minor": 1
}
