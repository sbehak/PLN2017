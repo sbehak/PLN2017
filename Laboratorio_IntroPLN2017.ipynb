{
 "cells": [
  {
   "cell_type": "markdown",
   "metadata": {},
   "source": [
    "# Laboratorio de Introducción al Procesamiento de Lenguaje Natural 2017"
   ]
  },
  {
   "cell_type": "markdown",
   "metadata": {},
   "source": [
    "#### Número de grupo: 13\n",
    "#### Integrantes:\n",
    "- Giovani Rondán, CI: 4.528.997-6\n",
    "- Santiago Behak, CI: 5.019.450-0"
   ]
  },
  {
   "cell_type": "markdown",
   "metadata": {},
   "source": [
    "## 1- Importación de los tweets."
   ]
  },
  {
   "cell_type": "markdown",
   "metadata": {},
   "source": [
    "Comenzaremos importando los tweets provenientes del archivo \"corpus_humor_training.csv\" usando la librería Pandas:"
   ]
  },
  {
   "cell_type": "code",
   "execution_count": 1,
   "metadata": {
    "scrolled": true
   },
   "outputs": [
    {
     "name": "stderr",
     "output_type": "stream",
     "text": [
      "C:\\Users\\grondan\\AppData\\Local\\Continuum\\anaconda3\\lib\\site-packages\\sklearn\\cross_validation.py:41: DeprecationWarning: This module was deprecated in version 0.18 in favor of the model_selection module into which all the refactored classes and functions are moved. Also note that the interface of the new CV iterators are different from that of this module. This module will be removed in 0.20.\n",
      "  \"This module will be removed in 0.20.\", DeprecationWarning)\n"
     ]
    }
   ],
   "source": [
    "import pandas\n",
    "import csv\n",
    "from sklearn.feature_extraction.text import CountVectorizer\n",
    "from sklearn.cross_validation import train_test_split\n",
    "import re\n",
    "#import freeling\n",
    "from pylab import *\n",
    "import numpy as np\n",
    "from nltk.corpus import stopwords\n",
    "import IPython.display as disp\n",
    "import os\n",
    "\n",
    "corpus = pandas.read_csv(\"corpus_humor_training.csv\",encoding='utf-8')"
   ]
  },
  {
   "cell_type": "markdown",
   "metadata": {},
   "source": [
    "Los registros de este corpus están compuestos por varios datos además del propio texto del tweet. A continuación mostraremos la estructura del corpus y algunos de los tweets (que se encuentran en el atributo \"text\") a modo de ejemplo:"
   ]
  },
  {
   "cell_type": "code",
   "execution_count": 2,
   "metadata": {},
   "outputs": [
    {
     "name": "stdout",
     "output_type": "stream",
     "text": [
      "Index(['id', 'text', 'account_id', 'n', '1', '2', '3', '4', '5'], dtype='object')\n",
      "\n",
      "\n",
      "-La semana pasada mi hijo hizo un triple salto mortal desde 20 metros de altura - ¿Es trapecista? -Era :(\n",
      "\n",
      "-Yo ya voy por mi segundo millón de dólares... -¿!Ah, si!? -Es que el primero nunca lo hice... #fb\n",
      "\n",
      "-Ayer fue mi cumpleaños y no me felicitaste - ¡FéÉLíCÍDáÁDÉéS! - ¿Qué haces? -Felicitarte con retraso.\n",
      "\n",
      "No es flojera, es un estado de ahorro de energía corporal :)\n",
      "\n",
      "- ¿Cómo te fue en matemática? -Vos sabes que soy muy pacífica - ¿Y eso qué tiene que ver? -No me gustan los problemas jajaja -Castigada - :(\n",
      "\n",
      "\"El pesimista se queja del viento; el optimista espera que cambie; el realista ajusta las velas\" Feliz miércoles.\n",
      "\n",
      "-¿Y tú desde cuando llevas pendiente? \r\n",
      "-Desde que mi mujer se lo encontró en el coche y le dije que era mío...\n",
      "\n"
     ]
    }
   ],
   "source": [
    "print(corpus.columns)\n",
    "print (\"\\n\")\n",
    "for text in corpus['text'][:7]:\n",
    "    print(text + '\\n')"
   ]
  },
  {
   "cell_type": "markdown",
   "metadata": {},
   "source": [
    "A continuación porocedemos a analizar las características del corpus obtenido, para esto obtendremos algunos datos básicos tales como la cantidad total de tweets, la cantidad de atributos de los que disponemos, la cantidad de calificaciones de los 10 tweets más calificados y la cantidad total de calificaciones."
   ]
  },
  {
   "cell_type": "code",
   "execution_count": 3,
   "metadata": {
    "scrolled": true
   },
   "outputs": [
    {
     "name": "stdout",
     "output_type": "stream",
     "text": [
      "Cantidad de Tweets en el corpus: 12106\n",
      "Cantidad de atributos en el corpus: 9\n",
      "Lista de los diez tweets con más calificaciones:\n",
      "\n"
     ]
    },
    {
     "data": {
      "text/html": [
       "<div>\n",
       "<style>\n",
       "    .dataframe thead tr:only-child th {\n",
       "        text-align: right;\n",
       "    }\n",
       "\n",
       "    .dataframe thead th {\n",
       "        text-align: left;\n",
       "    }\n",
       "\n",
       "    .dataframe tbody tr th {\n",
       "        vertical-align: top;\n",
       "    }\n",
       "</style>\n",
       "<table border=\"1\" class=\"dataframe\">\n",
       "  <thead>\n",
       "    <tr style=\"text-align: right;\">\n",
       "      <th></th>\n",
       "      <th>id</th>\n",
       "      <th>text</th>\n",
       "      <th>account_id</th>\n",
       "      <th>n</th>\n",
       "      <th>1</th>\n",
       "      <th>2</th>\n",
       "      <th>3</th>\n",
       "      <th>4</th>\n",
       "      <th>5</th>\n",
       "      <th>cantCalificaciones</th>\n",
       "    </tr>\n",
       "  </thead>\n",
       "  <tbody>\n",
       "    <tr>\n",
       "      <th>5879</th>\n",
       "      <td>445969156437852161</td>\n",
       "      <td>—¿A dónde vas tan maquillada? —A una fiesta, m...</td>\n",
       "      <td>1518218509</td>\n",
       "      <td>2</td>\n",
       "      <td>6</td>\n",
       "      <td>3</td>\n",
       "      <td>2</td>\n",
       "      <td>6</td>\n",
       "      <td>2</td>\n",
       "      <td>21</td>\n",
       "    </tr>\n",
       "    <tr>\n",
       "      <th>8158</th>\n",
       "      <td>446273545304162304</td>\n",
       "      <td>JAJAJAJAJAJA ¿TE ACUERDAS CUANDO... ah, no, tú...</td>\n",
       "      <td>229144847</td>\n",
       "      <td>13</td>\n",
       "      <td>2</td>\n",
       "      <td>1</td>\n",
       "      <td>4</td>\n",
       "      <td>0</td>\n",
       "      <td>0</td>\n",
       "      <td>20</td>\n",
       "    </tr>\n",
       "    <tr>\n",
       "      <th>10238</th>\n",
       "      <td>446423336831053824</td>\n",
       "      <td>\"Tu invades mi cabeza\" —Juanita, 10 años, tien...</td>\n",
       "      <td>229144847</td>\n",
       "      <td>4</td>\n",
       "      <td>6</td>\n",
       "      <td>4</td>\n",
       "      <td>3</td>\n",
       "      <td>2</td>\n",
       "      <td>0</td>\n",
       "      <td>19</td>\n",
       "    </tr>\n",
       "    <tr>\n",
       "      <th>11728</th>\n",
       "      <td>464188098780618752</td>\n",
       "      <td>#Chistetipico</td>\n",
       "      <td>124053720</td>\n",
       "      <td>17</td>\n",
       "      <td>0</td>\n",
       "      <td>0</td>\n",
       "      <td>0</td>\n",
       "      <td>1</td>\n",
       "      <td>0</td>\n",
       "      <td>18</td>\n",
       "    </tr>\n",
       "    <tr>\n",
       "      <th>7849</th>\n",
       "      <td>447042317480763393</td>\n",
       "      <td>\"Es imposible\" dijo el orgullo; \"es arriesgado...</td>\n",
       "      <td>1518218509</td>\n",
       "      <td>6</td>\n",
       "      <td>6</td>\n",
       "      <td>1</td>\n",
       "      <td>1</td>\n",
       "      <td>3</td>\n",
       "      <td>0</td>\n",
       "      <td>17</td>\n",
       "    </tr>\n",
       "    <tr>\n",
       "      <th>8966</th>\n",
       "      <td>448704341365366784</td>\n",
       "      <td>-Tenemos una relación seria. -¿Lleváis mucho t...</td>\n",
       "      <td>1518218509</td>\n",
       "      <td>1</td>\n",
       "      <td>2</td>\n",
       "      <td>4</td>\n",
       "      <td>3</td>\n",
       "      <td>3</td>\n",
       "      <td>4</td>\n",
       "      <td>17</td>\n",
       "    </tr>\n",
       "    <tr>\n",
       "      <th>1117</th>\n",
       "      <td>446934186889211905</td>\n",
       "      <td>Hablo 3 idiomas: español, sarcasmos e indirectas.</td>\n",
       "      <td>1518218509</td>\n",
       "      <td>6</td>\n",
       "      <td>4</td>\n",
       "      <td>1</td>\n",
       "      <td>4</td>\n",
       "      <td>0</td>\n",
       "      <td>1</td>\n",
       "      <td>16</td>\n",
       "    </tr>\n",
       "    <tr>\n",
       "      <th>7037</th>\n",
       "      <td>445481775133777921</td>\n",
       "      <td>Molestar a alguien solo porque te gusta ver co...</td>\n",
       "      <td>1518218509</td>\n",
       "      <td>14</td>\n",
       "      <td>1</td>\n",
       "      <td>0</td>\n",
       "      <td>1</td>\n",
       "      <td>0</td>\n",
       "      <td>0</td>\n",
       "      <td>16</td>\n",
       "    </tr>\n",
       "    <tr>\n",
       "      <th>9273</th>\n",
       "      <td>445669834211069952</td>\n",
       "      <td>A mi también me castigaron por reírme mientras...</td>\n",
       "      <td>1518218509</td>\n",
       "      <td>11</td>\n",
       "      <td>3</td>\n",
       "      <td>0</td>\n",
       "      <td>0</td>\n",
       "      <td>2</td>\n",
       "      <td>0</td>\n",
       "      <td>16</td>\n",
       "    </tr>\n",
       "    <tr>\n",
       "      <th>4306</th>\n",
       "      <td>447613590992732160</td>\n",
       "      <td>—En mis tiempos... —Sí, sí abuela, como digas,...</td>\n",
       "      <td>1518218509</td>\n",
       "      <td>4</td>\n",
       "      <td>1</td>\n",
       "      <td>3</td>\n",
       "      <td>4</td>\n",
       "      <td>2</td>\n",
       "      <td>1</td>\n",
       "      <td>15</td>\n",
       "    </tr>\n",
       "  </tbody>\n",
       "</table>\n",
       "</div>"
      ],
      "text/plain": [
       "                       id                                               text  \\\n",
       "5879   445969156437852161  —¿A dónde vas tan maquillada? —A una fiesta, m...   \n",
       "8158   446273545304162304  JAJAJAJAJAJA ¿TE ACUERDAS CUANDO... ah, no, tú...   \n",
       "10238  446423336831053824  \"Tu invades mi cabeza\" —Juanita, 10 años, tien...   \n",
       "11728  464188098780618752                                     #Chistetipico    \n",
       "7849   447042317480763393  \"Es imposible\" dijo el orgullo; \"es arriesgado...   \n",
       "8966   448704341365366784  -Tenemos una relación seria. -¿Lleváis mucho t...   \n",
       "1117   446934186889211905  Hablo 3 idiomas: español, sarcasmos e indirectas.   \n",
       "7037   445481775133777921  Molestar a alguien solo porque te gusta ver co...   \n",
       "9273   445669834211069952  A mi también me castigaron por reírme mientras...   \n",
       "4306   447613590992732160  —En mis tiempos... —Sí, sí abuela, como digas,...   \n",
       "\n",
       "       account_id   n  1  2  3  4  5  cantCalificaciones  \n",
       "5879   1518218509   2  6  3  2  6  2                  21  \n",
       "8158    229144847  13  2  1  4  0  0                  20  \n",
       "10238   229144847   4  6  4  3  2  0                  19  \n",
       "11728   124053720  17  0  0  0  1  0                  18  \n",
       "7849   1518218509   6  6  1  1  3  0                  17  \n",
       "8966   1518218509   1  2  4  3  3  4                  17  \n",
       "1117   1518218509   6  4  1  4  0  1                  16  \n",
       "7037   1518218509  14  1  0  1  0  0                  16  \n",
       "9273   1518218509  11  3  0  0  2  0                  16  \n",
       "4306   1518218509   4  1  3  4  2  1                  15  "
      ]
     },
     "metadata": {},
     "output_type": "display_data"
    }
   ],
   "source": [
    "cantTweets = len(corpus)\n",
    "cantAtributos = len(corpus.columns)\n",
    "\n",
    "# Imprimimos la cantidad total de tweets y la cantidad de atributos\n",
    "print (\"Cantidad de Tweets en el corpus: \" + str(cantTweets))\n",
    "print (\"Cantidad de atributos en el corpus: \" + str(cantAtributos))\n",
    "\n",
    "# Imprimimos la cantidad de calificaciones de los 10 tweets mas calificados y la cantidad total de calificaciones\n",
    "totalCalificaciones = 0\n",
    "contador = 0\n",
    "corpus[\"cantCalificaciones\"] = [0]*len(corpus)\n",
    "for i in range(0, 12106):\n",
    "    calificacionesTweet =corpus.loc[i, \"n\"] + corpus.loc[i, \"1\"]  + corpus.loc[i, \"2\"] + corpus.loc[i, \"3\"] + corpus.loc[i, \"4\"] + corpus.loc[i, \"5\"]\n",
    "    totalCalificaciones += calificacionesTweet\n",
    "    corpus.loc[i, \"cantCalificaciones\"] = calificacionesTweet\n",
    "\n",
    "print (\"Lista de los diez tweets con más calificaciones:\\n\")\n",
    "disp.display(corpus.sort_values(by = ['cantCalificaciones'], ascending = False).head(10))"
   ]
  },
  {
   "cell_type": "markdown",
   "metadata": {},
   "source": [
    "Otro dato que puede resultar interesante es la cantidad de calificaciones por valor (las calificaciones no humorísiticas serán contadas con el 0)."
   ]
  },
  {
   "cell_type": "code",
   "execution_count": 4,
   "metadata": {
    "scrolled": true
   },
   "outputs": [
    {
     "data": {
      "image/png": "[encoded data removed]",
      "text/plain": [
       "<matplotlib.figure.Figure at 0x287f2bf8208>"
      ]
     },
     "metadata": {},
     "output_type": "display_data"
    }
   ],
   "source": [
    "%matplotlib inline\n",
    "\n",
    "# Se realiza una gráfica de cantidad de comentarios en función de su clasificación\n",
    "calificacionesPorValor = [corpus[\"n\"].sum(), corpus[\"1\"].sum(), corpus[\"2\"].sum(), corpus[\"3\"].sum(), corpus[\"4\"].sum(), corpus[\"5\"].sum()]\n",
    "valoresCalificaciones = [\"0\", \"1\", \"2\", \"3\", \"4\", \"5\"]\n",
    "pos = arange(len(valoresCalificaciones)) + 0.5 \n",
    "\n",
    "figure(1)\n",
    "barh(pos,calificacionesPorValor, align='center')\n",
    "yticks(pos, valoresCalificaciones)\n",
    "xlabel('Cantidad de calificaciones')\n",
    "ylabel(u'Calificación')\n",
    "title(u'Cantidad de calificaciones por valor')\n",
    "grid(True)\n",
    "show()"
   ]
  },
  {
   "cell_type": "markdown",
   "metadata": {},
   "source": [
    "Como se puede ver en la gráfica la mayoría de las calificaciones corresponden al valor 0, o sea, como calificaciones no humorísticas."
   ]
  },
  {
   "cell_type": "markdown",
   "metadata": {},
   "source": [
    "## 2- Preprocesmiento de los datos"
   ]
  },
  {
   "cell_type": "markdown",
   "metadata": {
    "collapsed": true
   },
   "source": [
    "En primer lugar procederemos a eleminar las columnas del corpus que consideramos innecesarias. Eliminaremos la columna de la id del tweet ya que este es un número autogenerado aleatorio que no debería aportar información relevante."
   ]
  },
  {
   "cell_type": "code",
   "execution_count": 5,
   "metadata": {},
   "outputs": [
    {
     "name": "stdout",
     "output_type": "stream",
     "text": [
      "Index(['text', 'account_id', 'n', '1', '2', '3', '4', '5',\n",
      "       'cantCalificaciones'],\n",
      "      dtype='object')\n"
     ]
    }
   ],
   "source": [
    "if \"id\" in corpus.columns:\n",
    "    del corpus[\"id\"]\n",
    "print (corpus.columns)\n"
   ]
  },
  {
   "cell_type": "markdown",
   "metadata": {},
   "source": [
    "Una vez filtradas las columnas del corpus nos disponemos a filtrar los tweets que tienen menos de tres calificaciones dado que los mismos no cuentan con una cantidad significativa de calificaciones como para ser evaluados. Además se eliminarán los hashtags de los textos de los tweets como se pide en la letra y agregaremos una nueva columna que determina si un tweet es humorístico en función del número de calificaciones no humorísticas en relación al total de calificaciones del tweet. Si la cantidad de calificaciones humorísticas es mayor o igual a la suma del resto de calificaciones el tweet se considerará no humorístico."
   ]
  },
  {
   "cell_type": "code",
   "execution_count": 6,
   "metadata": {
    "scrolled": true
   },
   "outputs": [
    {
     "data": {
      "text/html": [
       "<div>\n",
       "<style>\n",
       "    .dataframe thead tr:only-child th {\n",
       "        text-align: right;\n",
       "    }\n",
       "\n",
       "    .dataframe thead th {\n",
       "        text-align: left;\n",
       "    }\n",
       "\n",
       "    .dataframe tbody tr th {\n",
       "        vertical-align: top;\n",
       "    }\n",
       "</style>\n",
       "<table border=\"1\" class=\"dataframe\">\n",
       "  <thead>\n",
       "    <tr style=\"text-align: right;\">\n",
       "      <th></th>\n",
       "      <th>text</th>\n",
       "      <th>account_id</th>\n",
       "      <th>n</th>\n",
       "      <th>1</th>\n",
       "      <th>2</th>\n",
       "      <th>3</th>\n",
       "      <th>4</th>\n",
       "      <th>5</th>\n",
       "      <th>humoristico</th>\n",
       "      <th>cantCalificaciones</th>\n",
       "      <th>mediana</th>\n",
       "    </tr>\n",
       "  </thead>\n",
       "  <tbody>\n",
       "    <tr>\n",
       "      <th>0</th>\n",
       "      <td>-La semana pasada mi hijo hizo un triple salto...</td>\n",
       "      <td>118161896</td>\n",
       "      <td>0</td>\n",
       "      <td>1</td>\n",
       "      <td>1</td>\n",
       "      <td>0</td>\n",
       "      <td>0</td>\n",
       "      <td>1</td>\n",
       "      <td>True</td>\n",
       "      <td>3</td>\n",
       "      <td>2.0</td>\n",
       "    </tr>\n",
       "    <tr>\n",
       "      <th>1</th>\n",
       "      <td>-Yo ya voy por mi segundo millón de dólares......</td>\n",
       "      <td>132679073</td>\n",
       "      <td>2</td>\n",
       "      <td>1</td>\n",
       "      <td>0</td>\n",
       "      <td>0</td>\n",
       "      <td>0</td>\n",
       "      <td>0</td>\n",
       "      <td>False</td>\n",
       "      <td>3</td>\n",
       "      <td>0.0</td>\n",
       "    </tr>\n",
       "    <tr>\n",
       "      <th>2</th>\n",
       "      <td>-Ayer fue mi cumpleaños y no me felicitaste - ...</td>\n",
       "      <td>118161896</td>\n",
       "      <td>0</td>\n",
       "      <td>1</td>\n",
       "      <td>1</td>\n",
       "      <td>1</td>\n",
       "      <td>0</td>\n",
       "      <td>1</td>\n",
       "      <td>True</td>\n",
       "      <td>4</td>\n",
       "      <td>3.0</td>\n",
       "    </tr>\n",
       "    <tr>\n",
       "      <th>3</th>\n",
       "      <td>No es flojera, es un estado de ahorro de energ...</td>\n",
       "      <td>1518218509</td>\n",
       "      <td>1</td>\n",
       "      <td>1</td>\n",
       "      <td>1</td>\n",
       "      <td>0</td>\n",
       "      <td>0</td>\n",
       "      <td>0</td>\n",
       "      <td>True</td>\n",
       "      <td>3</td>\n",
       "      <td>1.0</td>\n",
       "    </tr>\n",
       "    <tr>\n",
       "      <th>4</th>\n",
       "      <td>- ¿Cómo te fue en matemática? -Vos sabes que s...</td>\n",
       "      <td>118161896</td>\n",
       "      <td>2</td>\n",
       "      <td>0</td>\n",
       "      <td>0</td>\n",
       "      <td>1</td>\n",
       "      <td>0</td>\n",
       "      <td>0</td>\n",
       "      <td>False</td>\n",
       "      <td>3</td>\n",
       "      <td>0.0</td>\n",
       "    </tr>\n",
       "    <tr>\n",
       "      <th>5</th>\n",
       "      <td>-Compadre, su hija antes me daba como por las ...</td>\n",
       "      <td>132679073</td>\n",
       "      <td>1</td>\n",
       "      <td>1</td>\n",
       "      <td>0</td>\n",
       "      <td>0</td>\n",
       "      <td>1</td>\n",
       "      <td>0</td>\n",
       "      <td>True</td>\n",
       "      <td>3</td>\n",
       "      <td>1.0</td>\n",
       "    </tr>\n",
       "    <tr>\n",
       "      <th>6</th>\n",
       "      <td>Había una vez una tortuguita que fue a su prim...</td>\n",
       "      <td>142482558</td>\n",
       "      <td>1</td>\n",
       "      <td>2</td>\n",
       "      <td>1</td>\n",
       "      <td>0</td>\n",
       "      <td>0</td>\n",
       "      <td>0</td>\n",
       "      <td>True</td>\n",
       "      <td>4</td>\n",
       "      <td>1.0</td>\n",
       "    </tr>\n",
       "    <tr>\n",
       "      <th>7</th>\n",
       "      <td>Una novia que sea tan delicada como Neymar, es...</td>\n",
       "      <td>142482558</td>\n",
       "      <td>2</td>\n",
       "      <td>0</td>\n",
       "      <td>0</td>\n",
       "      <td>0</td>\n",
       "      <td>1</td>\n",
       "      <td>0</td>\n",
       "      <td>False</td>\n",
       "      <td>3</td>\n",
       "      <td>0.0</td>\n",
       "    </tr>\n",
       "    <tr>\n",
       "      <th>8</th>\n",
       "      <td>¿Qué le dice el Nesquik a la leche? ¡Te voy a ...</td>\n",
       "      <td>132679073</td>\n",
       "      <td>2</td>\n",
       "      <td>1</td>\n",
       "      <td>0</td>\n",
       "      <td>0</td>\n",
       "      <td>1</td>\n",
       "      <td>0</td>\n",
       "      <td>True</td>\n",
       "      <td>4</td>\n",
       "      <td>1.0</td>\n",
       "    </tr>\n",
       "    <tr>\n",
       "      <th>9</th>\n",
       "      <td>Si oscar se queda me pego un tiro con un banan...</td>\n",
       "      <td>574848706</td>\n",
       "      <td>6</td>\n",
       "      <td>1</td>\n",
       "      <td>1</td>\n",
       "      <td>0</td>\n",
       "      <td>1</td>\n",
       "      <td>0</td>\n",
       "      <td>False</td>\n",
       "      <td>9</td>\n",
       "      <td>0.0</td>\n",
       "    </tr>\n",
       "    <tr>\n",
       "      <th>10</th>\n",
       "      <td>- ¿Cual es tu nombre? -Pikachu Rodríguez, ¿y e...</td>\n",
       "      <td>118161896</td>\n",
       "      <td>0</td>\n",
       "      <td>0</td>\n",
       "      <td>1</td>\n",
       "      <td>0</td>\n",
       "      <td>2</td>\n",
       "      <td>0</td>\n",
       "      <td>True</td>\n",
       "      <td>3</td>\n",
       "      <td>4.0</td>\n",
       "    </tr>\n",
       "  </tbody>\n",
       "</table>\n",
       "</div>"
      ],
      "text/plain": [
       "                                                 text  account_id  n  1  2  3  \\\n",
       "0   -La semana pasada mi hijo hizo un triple salto...   118161896  0  1  1  0   \n",
       "1   -Yo ya voy por mi segundo millón de dólares......   132679073  2  1  0  0   \n",
       "2   -Ayer fue mi cumpleaños y no me felicitaste - ...   118161896  0  1  1  1   \n",
       "3   No es flojera, es un estado de ahorro de energ...  1518218509  1  1  1  0   \n",
       "4   - ¿Cómo te fue en matemática? -Vos sabes que s...   118161896  2  0  0  1   \n",
       "5   -Compadre, su hija antes me daba como por las ...   132679073  1  1  0  0   \n",
       "6   Había una vez una tortuguita que fue a su prim...   142482558  1  2  1  0   \n",
       "7   Una novia que sea tan delicada como Neymar, es...   142482558  2  0  0  0   \n",
       "8   ¿Qué le dice el Nesquik a la leche? ¡Te voy a ...   132679073  2  1  0  0   \n",
       "9   Si oscar se queda me pego un tiro con un banan...   574848706  6  1  1  0   \n",
       "10  - ¿Cual es tu nombre? -Pikachu Rodríguez, ¿y e...   118161896  0  0  1  0   \n",
       "\n",
       "    4  5 humoristico cantCalificaciones  mediana  \n",
       "0   0  1        True                  3      2.0  \n",
       "1   0  0       False                  3      0.0  \n",
       "2   0  1        True                  4      3.0  \n",
       "3   0  0        True                  3      1.0  \n",
       "4   0  0       False                  3      0.0  \n",
       "5   1  0        True                  3      1.0  \n",
       "6   0  0        True                  4      1.0  \n",
       "7   1  0       False                  3      0.0  \n",
       "8   1  0        True                  4      1.0  \n",
       "9   1  0       False                  9      0.0  \n",
       "10  2  0        True                  3      4.0  "
      ]
     },
     "metadata": {},
     "output_type": "display_data"
    },
    {
     "name": "stdout",
     "output_type": "stream",
     "text": [
      "Cantidad de tweets que quedan en el corpus luego del filtrado: 3438\n"
     ]
    }
   ],
   "source": [
    "import statistics\n",
    "import math\n",
    "\n",
    "corpus[\"humoristico\"] = [False]*len(corpus)\n",
    "corpus_filtrado = pandas.DataFrame(columns = ['text', 'account_id', 'n', '1', '2', '3', '4', '5', 'humoristico', 'cantCalificaciones', 'mediana'])\n",
    "#corpus_filtrado = corpus[corpus.n + corpus.columns[4] + corpus.columns[5] + corpus.columns[6] + corpus.columns[7] + corpus.columns[8] >= 3]\n",
    "total = 0\n",
    "for i in range(0, 12106):\n",
    "    contador = corpus.loc[i, \"cantCalificaciones\"]\n",
    "    #eliminamos los hashtags\n",
    "    corpus.loc[i, \"text\"] = re.sub(r\"#\\S+\\s*\", \"\", corpus.loc[i, \"text\"])\n",
    "    #definimos si un tweet es humoristico o no segun los votos\n",
    "    if(contador/2 >= corpus.loc[i, \"n\"]):\n",
    "        corpus.loc[i, \"humoristico\"] = True\n",
    "    #calculo mediana\n",
    "    califications= []\n",
    "    califications += [0]* corpus.loc[i, \"n\"]\n",
    "    califications += [1]* corpus.loc[i, \"1\"]\n",
    "    califications += [2]* corpus.loc[i, \"2\"]\n",
    "    califications += [3]* corpus.loc[i, \"3\"]\n",
    "    califications += [4]* corpus.loc[i, \"4\"]\n",
    "    califications += [5]* corpus.loc[i, \"5\"]\n",
    "    mediana = statistics.median(califications)\n",
    "    if (trunc(mediana) < mediana):\n",
    "        mediana = trunc(mediana) +1\n",
    "    corpus.loc[i,\"mediana\"] = mediana\n",
    "    #filtramos los tweets que tienen menos de 3 votos\n",
    "    if contador >= 3:\n",
    "        corpus_filtrado.loc[total] = [corpus.loc[i, \"text\"], corpus.loc[i, \"account_id\"], corpus.loc[i, \"n\"], corpus.loc[i, \"1\"], corpus.loc[i, \"2\"], corpus.loc[i, \"3\"], corpus.loc[i, \"4\"], corpus.loc[i, \"5\"], corpus.loc[i, \"humoristico\"], corpus.loc[i, \"cantCalificaciones\"],corpus.loc[i,\"mediana\"]]\n",
    "        total += 1\n",
    "        \n",
    "#columna 3 -> n, 4 -> 1, 5 -> 2, 6 -> 3, 7 -> 4, 8 -> 5\n",
    "\n",
    "disp.display(corpus_filtrado.loc[0:10, :])\n",
    "print (\"Cantidad de tweets que quedan en el corpus luego del filtrado: \" + str(len(corpus_filtrado)))"
   ]
  },
  {
   "cell_type": "markdown",
   "metadata": {},
   "source": [
    "## 3- Separación de los datos en conjunto de train y test"
   ]
  },
  {
   "cell_type": "markdown",
   "metadata": {},
   "source": [
    "A continuación dividiremos el corpus restante en un conjunto de train y en otro de test. En principio usaremos un 80% de los datos para el entrenamiento y un 20% para el testeo."
   ]
  },
  {
   "cell_type": "code",
   "execution_count": 7,
   "metadata": {},
   "outputs": [
    {
     "name": "stdout",
     "output_type": "stream",
     "text": [
      "Cantidad de tweets en el conjunto de entrenamiento: 2750\n",
      "Cantidad de tweets en el conjunto de testeo: 688\n"
     ]
    }
   ],
   "source": [
    "corpus_train, corpus_test = train_test_split(corpus_filtrado, test_size=0.2)\n",
    "\n",
    "print (\"Cantidad de tweets en el conjunto de entrenamiento: \" + str(len(corpus_train)))\n",
    "print (\"Cantidad de tweets en el conjunto de testeo: \" + str(len(corpus_test)))"
   ]
  },
  {
   "cell_type": "markdown",
   "metadata": {},
   "source": [
    "## 4- Clasificador binario con tokenizador y POS tag de Freeling"
   ]
  },
  {
   "cell_type": "markdown",
   "metadata": {},
   "source": [
    "### 4-1 Tokenización del corpus usando Freeling"
   ]
  },
  {
   "cell_type": "markdown",
   "metadata": {},
   "source": [
    "Una vez separados el conjunto de train y test procedemos a tokenizar los tweets provenientes del conjunto train. Para esto usaremos la librería Freeling y NLTK. Primero definiremos una función que tokeniza un corpus usando freeling y a la que se le pueden pasar filtros para eliminar palabras basados en el postag de Freeling:"
   ]
  },
  {
   "cell_type": "code",
   "execution_count": 11,
   "metadata": {
    "collapsed": true
   },
   "outputs": [],
   "source": [
    "from subprocess import Popen, PIPE, STDOUT\n",
    "import datetime\n",
    "import traceback as tb\n",
    "\n",
    "def filtrar_corpus(corpus, filtros, train, lemma = False, usuario = False, with_tag = False, mediana = False):\n",
    "    result = []\n",
    "    palabras = \"\"\n",
    "    finTweetH = \"13grupoPLN\"\n",
    "    finTweetNH = \"13grupoIPLN\"\n",
    "    \n",
    "    for index, tweet in corpus.iterrows():\n",
    "        palabras+= tweet[\"text\"]\n",
    "        palabras+= \". \"\n",
    "        if(tweet[\"humoristico\"]):\n",
    "            palabras+= finTweetH\n",
    "        else:\n",
    "            palabras+= finTweetNH\n",
    "        palabras+= \". \"\n",
    "\n",
    "    p = Popen(\"C:\\grondan\\PLN2/FreelingWindows/bin/analyzer.bat -f C:\\grondan\\PLN2/FreelingWindows/data/config/es.cfg\", shell = True, stdout=PIPE, stdin=PIPE, stderr=STDOUT)\n",
    "    stdout = p.communicate(input=palabras.encode())[0]\n",
    "    iterator = -1\n",
    "    tweets = stdout.decode().split('\\r\\n')\n",
    "    for index, row in corpus.iterrows():\n",
    "        iterator += 1\n",
    "        tokens = tweets[iterator].split(' ')\n",
    "        diccionario = {}\n",
    "        while (tokens[0] != finTweetH and tokens[0] != finTweetNH):\n",
    "            if(tokens[0] != ''):\n",
    "                if(lemma):\n",
    "                    token = tokens[1]\n",
    "                else:\n",
    "                    token = tokens[0]\n",
    "                tag = tokens[2]\n",
    "                flag = True\n",
    "                for filtro in filtros:\n",
    "                    tag_aux = tag[0:len(filtro)]\n",
    "                    if (tag_aux == filtro):\n",
    "                        flag = False\n",
    "                        break\n",
    "                if flag:\n",
    "                    if(token in diccionario):\n",
    "                        diccionario[token] += 1\n",
    "                    else:\n",
    "                        diccionario[token] = 1\n",
    "                    if(with_tag):\n",
    "                        if(tag in diccionario):\n",
    "                            diccionario[tag] += 1\n",
    "                        else:\n",
    "                            diccionario[tag] = 1\n",
    "            tokens = tweets[iterator].split(' ')\n",
    "            iterator += 1\n",
    "        if(usuario):\n",
    "            hola = row[\"account_id\"]\n",
    "            diccionario[hola] = 1\n",
    "        if(train):\n",
    "            if(mediana):\n",
    "                result.append((diccionario, row[\"mediana\"]))\n",
    "            else:\n",
    "                result.append((diccionario, tokens[0] == finTweetH))\n",
    "        else:\n",
    "            result.append(diccionario)\n",
    "\n",
    "    return result"
   ]
  },
  {
   "cell_type": "markdown",
   "metadata": {},
   "source": [
    "### 4-2 Pruebas de clasificadores y filtros"
   ]
  },
  {
   "cell_type": "markdown",
   "metadata": {},
   "source": [
    "Con esta función probaremos dos clasificadores (Naive Bayes y Máxima Entropía) y un conjunto de filtros para eliminar tokens que en principio no parecen tan interesantes. Los filtros que consideramos probar son: \"F\" (signos de puntuacion), \"D\" (determinantes), \"P\" (pronombres), \"S\" (aposiciones) y \"Z\" (números). Probaremos usar todas las combinaciones de clasificadores y filtros y veremos cuales dan mejores resultados. Por ahora los únicos features que usaremos para la clasificación serán la forma de las palabras, luego agregaremos más features una vez que obtengamos la configuración ideal. (Atención, la siguiente cell demora mucho en ejecutarse)"
   ]
  },
  {
   "cell_type": "code",
   "execution_count": 9,
   "metadata": {
    "scrolled": true
   },
   "outputs": [
    {
     "name": "stdout",
     "output_type": "stream",
     "text": [
      "entrene\n",
      "Matriz de confusión de Naive Bayes con filtros: F\n",
      "  |   0   1   2 |\n",
      "--+-------------+\n",
      "0 |<203> 55   . |\n",
      "1 | 128<302>  . |\n",
      "2 |   .   .  <.>|\n",
      "--+-------------+\n",
      "(row = reference; col = test)\n",
      "\n",
      "Accuracy: 0.7340116279069767\n",
      "Matriz de confusión de Maxima Entropia con filtros: F\n",
      "  |   0   1   2 |\n",
      "--+-------------+\n",
      "0 |<230> 69   . |\n",
      "1 | 101<288>  . |\n",
      "2 |   .   .  <.>|\n",
      "--+-------------+\n",
      "(row = reference; col = test)\n",
      "\n",
      "Accuracy: 0.752906976744186\n",
      "entrene\n",
      "Matriz de confusión de Naive Bayes con filtros: D\n",
      "  |   0   1   2 |\n",
      "--+-------------+\n",
      "0 |<209> 49   . |\n",
      "1 | 122<308>  . |\n",
      "2 |   .   .  <.>|\n",
      "--+-------------+\n",
      "(row = reference; col = test)\n",
      "\n",
      "Accuracy: 0.751453488372093\n",
      "Matriz de confusión de Maxima Entropia con filtros: D\n",
      "  |   0   1   2 |\n",
      "--+-------------+\n",
      "0 |<249> 78   . |\n",
      "1 |  82<279>  . |\n",
      "2 |   .   .  <.>|\n",
      "--+-------------+\n",
      "(row = reference; col = test)\n",
      "\n",
      "Accuracy: 0.7674418604651163\n"
     ]
    },
    {
     "ename": "KeyboardInterrupt",
     "evalue": "",
     "output_type": "error",
     "traceback": [
      "\u001b[1;31m---------------------------------------------------------------------------\u001b[0m",
      "\u001b[1;31mKeyboardInterrupt\u001b[0m                         Traceback (most recent call last)",
      "\u001b[1;32m<ipython-input-9-67030e1f0048>\u001b[0m in \u001b[0;36m<module>\u001b[1;34m()\u001b[0m\n\u001b[0;32m      8\u001b[0m     \u001b[0mfilter_combinations\u001b[0m \u001b[1;33m=\u001b[0m \u001b[0mitertools\u001b[0m\u001b[1;33m.\u001b[0m\u001b[0mcombinations\u001b[0m\u001b[1;33m(\u001b[0m\u001b[0mfiltros\u001b[0m\u001b[1;33m,\u001b[0m \u001b[0mi\u001b[0m\u001b[1;33m)\u001b[0m\u001b[1;33m\u001b[0m\u001b[0m\n\u001b[0;32m      9\u001b[0m     \u001b[1;32mfor\u001b[0m \u001b[0mfilter_combination\u001b[0m \u001b[1;32min\u001b[0m \u001b[0mfilter_combinations\u001b[0m\u001b[1;33m:\u001b[0m\u001b[1;33m\u001b[0m\u001b[0m\n\u001b[1;32m---> 10\u001b[1;33m         \u001b[0mcorpus_pos_tagging\u001b[0m \u001b[1;33m=\u001b[0m \u001b[0mfiltrar_corpus\u001b[0m\u001b[1;33m(\u001b[0m\u001b[0mcorpus_train\u001b[0m\u001b[1;33m,\u001b[0m \u001b[0mfilter_combination\u001b[0m\u001b[1;33m,\u001b[0m \u001b[1;32mTrue\u001b[0m\u001b[1;33m)\u001b[0m\u001b[1;33m\u001b[0m\u001b[0m\n\u001b[0m\u001b[0;32m     11\u001b[0m         \u001b[0mclassifiers\u001b[0m \u001b[1;33m=\u001b[0m \u001b[1;33m[\u001b[0m\u001b[1;33m]\u001b[0m\u001b[1;33m\u001b[0m\u001b[0m\n\u001b[0;32m     12\u001b[0m         \u001b[0mclassifiers\u001b[0m \u001b[1;33m+=\u001b[0m \u001b[1;33m[\u001b[0m\u001b[1;33m[\u001b[0m\u001b[0mnltk\u001b[0m\u001b[1;33m.\u001b[0m\u001b[0mclassify\u001b[0m\u001b[1;33m.\u001b[0m\u001b[0mNaiveBayesClassifier\u001b[0m\u001b[1;33m.\u001b[0m\u001b[0mtrain\u001b[0m\u001b[1;33m(\u001b[0m\u001b[0mcorpus_pos_tagging\u001b[0m\u001b[1;33m)\u001b[0m\u001b[1;33m,\u001b[0m \u001b[1;34m\"Naive Bayes\"\u001b[0m\u001b[1;33m]\u001b[0m\u001b[1;33m]\u001b[0m\u001b[1;33m\u001b[0m\u001b[0m\n",
      "\u001b[1;32m<ipython-input-8-ba14ae7b8e29>\u001b[0m in \u001b[0;36mfiltrar_corpus\u001b[1;34m(corpus, filtros, train, lemma, usuario, with_tag, mediana)\u001b[0m\n\u001b[0;32m     19\u001b[0m \u001b[1;33m\u001b[0m\u001b[0m\n\u001b[0;32m     20\u001b[0m     \u001b[0mp\u001b[0m \u001b[1;33m=\u001b[0m \u001b[0mPopen\u001b[0m\u001b[1;33m(\u001b[0m\u001b[1;34m\"C:\\grondan\\PLN2/FreelingWindows/bin/analyzer.bat -f C:\\grondan\\PLN2/FreelingWindows/data/config/es.cfg\"\u001b[0m\u001b[1;33m,\u001b[0m \u001b[0mshell\u001b[0m \u001b[1;33m=\u001b[0m \u001b[1;32mTrue\u001b[0m\u001b[1;33m,\u001b[0m \u001b[0mstdout\u001b[0m\u001b[1;33m=\u001b[0m\u001b[0mPIPE\u001b[0m\u001b[1;33m,\u001b[0m \u001b[0mstdin\u001b[0m\u001b[1;33m=\u001b[0m\u001b[0mPIPE\u001b[0m\u001b[1;33m,\u001b[0m \u001b[0mstderr\u001b[0m\u001b[1;33m=\u001b[0m\u001b[0mSTDOUT\u001b[0m\u001b[1;33m)\u001b[0m\u001b[1;33m\u001b[0m\u001b[0m\n\u001b[1;32m---> 21\u001b[1;33m     \u001b[0mstdout\u001b[0m \u001b[1;33m=\u001b[0m \u001b[0mp\u001b[0m\u001b[1;33m.\u001b[0m\u001b[0mcommunicate\u001b[0m\u001b[1;33m(\u001b[0m\u001b[0minput\u001b[0m\u001b[1;33m=\u001b[0m\u001b[0mpalabras\u001b[0m\u001b[1;33m.\u001b[0m\u001b[0mencode\u001b[0m\u001b[1;33m(\u001b[0m\u001b[1;33m)\u001b[0m\u001b[1;33m)\u001b[0m\u001b[1;33m[\u001b[0m\u001b[1;36m0\u001b[0m\u001b[1;33m]\u001b[0m\u001b[1;33m\u001b[0m\u001b[0m\n\u001b[0m\u001b[0;32m     22\u001b[0m     \u001b[0miterator\u001b[0m \u001b[1;33m=\u001b[0m \u001b[1;33m-\u001b[0m\u001b[1;36m1\u001b[0m\u001b[1;33m\u001b[0m\u001b[0m\n\u001b[0;32m     23\u001b[0m     \u001b[0mtweets\u001b[0m \u001b[1;33m=\u001b[0m \u001b[0mstdout\u001b[0m\u001b[1;33m.\u001b[0m\u001b[0mdecode\u001b[0m\u001b[1;33m(\u001b[0m\u001b[1;33m)\u001b[0m\u001b[1;33m.\u001b[0m\u001b[0msplit\u001b[0m\u001b[1;33m(\u001b[0m\u001b[1;34m'\\r\\n'\u001b[0m\u001b[1;33m)\u001b[0m\u001b[1;33m\u001b[0m\u001b[0m\n",
      "\u001b[1;32m~\\AppData\\Local\\Continuum\\anaconda3\\lib\\subprocess.py\u001b[0m in \u001b[0;36mcommunicate\u001b[1;34m(self, input, timeout)\u001b[0m\n\u001b[0;32m    841\u001b[0m \u001b[1;33m\u001b[0m\u001b[0m\n\u001b[0;32m    842\u001b[0m             \u001b[1;32mtry\u001b[0m\u001b[1;33m:\u001b[0m\u001b[1;33m\u001b[0m\u001b[0m\n\u001b[1;32m--> 843\u001b[1;33m                 \u001b[0mstdout\u001b[0m\u001b[1;33m,\u001b[0m \u001b[0mstderr\u001b[0m \u001b[1;33m=\u001b[0m \u001b[0mself\u001b[0m\u001b[1;33m.\u001b[0m\u001b[0m_communicate\u001b[0m\u001b[1;33m(\u001b[0m\u001b[0minput\u001b[0m\u001b[1;33m,\u001b[0m \u001b[0mendtime\u001b[0m\u001b[1;33m,\u001b[0m \u001b[0mtimeout\u001b[0m\u001b[1;33m)\u001b[0m\u001b[1;33m\u001b[0m\u001b[0m\n\u001b[0m\u001b[0;32m    844\u001b[0m             \u001b[1;32mfinally\u001b[0m\u001b[1;33m:\u001b[0m\u001b[1;33m\u001b[0m\u001b[0m\n\u001b[0;32m    845\u001b[0m                 \u001b[0mself\u001b[0m\u001b[1;33m.\u001b[0m\u001b[0m_communication_started\u001b[0m \u001b[1;33m=\u001b[0m \u001b[1;32mTrue\u001b[0m\u001b[1;33m\u001b[0m\u001b[0m\n",
      "\u001b[1;32m~\\AppData\\Local\\Continuum\\anaconda3\\lib\\subprocess.py\u001b[0m in \u001b[0;36m_communicate\u001b[1;34m(self, input, endtime, orig_timeout)\u001b[0m\n\u001b[0;32m   1084\u001b[0m \u001b[1;33m\u001b[0m\u001b[0m\n\u001b[0;32m   1085\u001b[0m             \u001b[1;32mif\u001b[0m \u001b[0mself\u001b[0m\u001b[1;33m.\u001b[0m\u001b[0mstdin\u001b[0m\u001b[1;33m:\u001b[0m\u001b[1;33m\u001b[0m\u001b[0m\n\u001b[1;32m-> 1086\u001b[1;33m                 \u001b[0mself\u001b[0m\u001b[1;33m.\u001b[0m\u001b[0m_stdin_write\u001b[0m\u001b[1;33m(\u001b[0m\u001b[0minput\u001b[0m\u001b[1;33m)\u001b[0m\u001b[1;33m\u001b[0m\u001b[0m\n\u001b[0m\u001b[0;32m   1087\u001b[0m \u001b[1;33m\u001b[0m\u001b[0m\n\u001b[0;32m   1088\u001b[0m             \u001b[1;31m# Wait for the reader threads, or time out.  If we time out, the\u001b[0m\u001b[1;33m\u001b[0m\u001b[1;33m\u001b[0m\u001b[0m\n",
      "\u001b[1;32m~\\AppData\\Local\\Continuum\\anaconda3\\lib\\subprocess.py\u001b[0m in \u001b[0;36m_stdin_write\u001b[1;34m(self, input)\u001b[0m\n\u001b[0;32m    779\u001b[0m         \u001b[1;32mif\u001b[0m \u001b[0minput\u001b[0m\u001b[1;33m:\u001b[0m\u001b[1;33m\u001b[0m\u001b[0m\n\u001b[0;32m    780\u001b[0m             \u001b[1;32mtry\u001b[0m\u001b[1;33m:\u001b[0m\u001b[1;33m\u001b[0m\u001b[0m\n\u001b[1;32m--> 781\u001b[1;33m                 \u001b[0mself\u001b[0m\u001b[1;33m.\u001b[0m\u001b[0mstdin\u001b[0m\u001b[1;33m.\u001b[0m\u001b[0mwrite\u001b[0m\u001b[1;33m(\u001b[0m\u001b[0minput\u001b[0m\u001b[1;33m)\u001b[0m\u001b[1;33m\u001b[0m\u001b[0m\n\u001b[0m\u001b[0;32m    782\u001b[0m             \u001b[1;32mexcept\u001b[0m \u001b[0mBrokenPipeError\u001b[0m\u001b[1;33m:\u001b[0m\u001b[1;33m\u001b[0m\u001b[0m\n\u001b[0;32m    783\u001b[0m                 \u001b[1;32mpass\u001b[0m  \u001b[1;31m# communicate() must ignore broken pipe errors.\u001b[0m\u001b[1;33m\u001b[0m\u001b[0m\n",
      "\u001b[1;31mKeyboardInterrupt\u001b[0m: "
     ]
    }
   ],
   "source": [
    "import nltk\n",
    "from nltk.metrics.scores import *\n",
    "import itertools\n",
    "\n",
    "max_accuracy = 0\n",
    "filtros = [\"F\", \"D\", \"P\", \"S\", \"Z\"]\n",
    "for i in range(1, len(filtros) + 1):\n",
    "    filter_combinations = itertools.combinations(filtros, i)\n",
    "    for filter_combination in filter_combinations:\n",
    "        corpus_pos_tagging = filtrar_corpus(corpus_train, filter_combination, True)\n",
    "        classifiers = []\n",
    "        classifiers += [[nltk.classify.NaiveBayesClassifier.train(corpus_pos_tagging), \"Naive Bayes\"]]\n",
    "        classifiers += [[nltk.classify.MaxentClassifier.train(corpus_pos_tagging, max_iter=8,trace=0), \"Maxima Entropia\"]]\n",
    "\n",
    "        print(\"entrene\")\n",
    "        #for classifier in classifiers:\n",
    "        #    classifier[0].show_most_informative_features()\n",
    "        salida = []\n",
    "        corpus_test_tokenizado = filtrar_corpus(corpus_test, filter_combination, False)\n",
    "        for classifier in classifiers:\n",
    "            salidaClasificador = []\n",
    "            for tweet in corpus_test_tokenizado:\n",
    "                # Se obtiene la clasificacion del algoritmo para el comentario\n",
    "                try:\n",
    "                    clasificacion = classifier[0].classify(tweet)\n",
    "                    salidaClasificador.append(clasificacion)\n",
    "                except:\n",
    "                    pass\n",
    "\n",
    "            salida = corpus_test.loc[:, \"humoristico\"]\n",
    "            cm = nltk.ConfusionMatrix(salidaClasificador, salida)\n",
    "            print(\"Matriz de confusión de \" + classifier[1] + \" con filtros: \" + '-'.join(filter_combination))\n",
    "            print(cm)\n",
    "            acc = accuracy(salidaClasificador, salida)\n",
    "            print(\"Accuracy: \" + str(acc))\n",
    "            if acc > max_accuracy:\n",
    "                max_accuracy = acc\n",
    "                best_combination = filter_combination\n",
    "                \n",
    "print(\"\\n Mejor combinacion: \" + '-'.join(best_combination) + \"\\n Mejor accuracy: \" + str(max_accuracy))"
   ]
  },
  {
   "cell_type": "markdown",
   "metadata": {},
   "source": [
    "Después de varias ejecuciones con diferentes conjuntos de test comprobamos que Máxima Entropía es claramente mejor que Naive Bayes para este clasificador: en todos los casos probados Máxima Entropía obtiene entre 2 y 5 puntos más de precisión que Naive Bayes. Además se puede ver que existen variaciones significativas de precisión para los diferentes filtros (en general existe una diferencia de 8 puntos entre la mejor y la peor combinación), en particular la precisión baja de forma apreciable en las combinaciones que poseen el filtro \"F\" (correspondiente a los signos de puntuación). De hecho si se listan los features más significativos de Naive Bayes sin aplicar ningún filtro se puede ver que de hecho el guión \"-\" es el token que aporta más información:"
   ]
  },
  {
   "cell_type": "code",
   "execution_count": null,
   "metadata": {},
   "outputs": [],
   "source": [
    "corpus_pos_tagging = filtrar_corpus(corpus_train, [], True)\n",
    "classifier = nltk.classify.NaiveBayesClassifier.train(corpus_pos_tagging)\n",
    "classifier.show_most_informative_features()"
   ]
  },
  {
   "cell_type": "markdown",
   "metadata": {},
   "source": [
    "Probablemente esto se debe a que el guión se usa para simular diálogos, los cuáles son muy frecuentes en los chistes y los relatos.\n"
   ]
  },
  {
   "cell_type": "markdown",
   "metadata": {},
   "source": [
    "### 4-3 Pruebas con nuevos features"
   ]
  },
  {
   "cell_type": "markdown",
   "metadata": {},
   "source": [
    "La prueba anterior nos permite obtener entre un 70% y un 75% de precisión, así que intentaremos mejorar estos resultados agregando nuevos features como pueden ser la id del usuario, usar el lema de las palabras en lugar de su forma y el pos-tag devuelto por Freeling para los tokens. Para estas pruebas mantendremos el clasificador de Máxima Entropía además de todos los filtros menos el de los signos de puntuación porque, como ya discutimos, estos fueron los que dieron mejores resultados en las pruebas anteriores."
   ]
  },
  {
   "cell_type": "code",
   "execution_count": null,
   "metadata": {
    "scrolled": true
   },
   "outputs": [],
   "source": [
    "import nltk\n",
    "from nltk.metrics.scores import *\n",
    "\n",
    "best_accuracy = 0\n",
    "\n",
    "for i in range(0, 8):\n",
    "    aux_i = i\n",
    "    bool1 = (1 == (aux_i % 2))\n",
    "    aux_i = aux_i // 2\n",
    "    bool2 = (1 == (aux_i % 2))\n",
    "    aux_i = aux_i // 2\n",
    "    bool3 = (1 == (aux_i % 2))\n",
    "    corpus_pos_tagging = filtrar_corpus(corpus_train, [\"P\", \"S\", \"Z\", \"D\"], True, bool1, bool2, bool3)\n",
    "    clf = nltk.classify.MaxentClassifier.train(corpus_pos_tagging, max_iter=8,trace=0)\n",
    "    corpus_test_tokenizado = filtrar_corpus(corpus_test, [\"P\", \"S\", \"Z\", \"D\"], False, bool1, bool2, bool3)\n",
    "    clasificacionCLF = []\n",
    "    clasificacionOficial = []\n",
    "    for tweet in corpus_test_tokenizado:\n",
    "        #Clasificamos los tweets del corpus de test\n",
    "        clasificacion = clf.classify(tweet)\n",
    "        clasificacionCLF.append(clasificacion)\n",
    "\n",
    "    #Obtenemos las clasificaciones oficiales de los tweets del conjunto de test para compararlos con los del clasificador\n",
    "    clasificacionOficial = corpus_test.loc[:, \"humoristico\"]\n",
    "    cm = nltk.ConfusionMatrix(clasificacionCLF, clasificacionOficial)\n",
    "    print(\"Matriz de confusión con features: \" + str(bool1) + \"-\" + str(bool2) + \"-\" + str(bool3))\n",
    "    print(cm)\n",
    "    acc = accuracy(clasificacionCLF, clasificacionOficial)\n",
    "    print(\"Accuracy: \" + str(acc))\n",
    "    \n",
    "    if(acc > best_accuracy):\n",
    "        best_accuracy = acc\n",
    "        best_features = [bool1, bool2, bool3]\n",
    "\n",
    "print(\"Mejor combinacion de features: \" + str(best_features[0]) + \"-\" + str(best_features[1]) + \"-\" + str(best_features[2]))\n"
   ]
  },
  {
   "cell_type": "markdown",
   "metadata": {},
   "source": [
    "Los resultados indican que los mejores resultados se obtienen cuando todas las features mencionadas (usuario, lema de la palabra, y pos-tags de Freeling) están presentes. En general se obtiene una mejora de 4 o 5 puntos con respecto a la prueba anterior y de esta forma alcanzamos entre 74% y 79% de precisión."
   ]
  },
  {
   "cell_type": "markdown",
   "metadata": {},
   "source": [
    "## 5- Clasificador por mediana"
   ]
  },
  {
   "cell_type": "markdown",
   "metadata": {},
   "source": [
    "A continiación construiremos un nuevo clasificador sobre si los tweets que forman parte del corpus son humorísticos. Para esto procederemos evaluando la mediana de las clasificaciones obtenidas, y consideraremos como humorísticos a los tweets que tengan una mediana mayor o igual a 1"
   ]
  },
  {
   "cell_type": "markdown",
   "metadata": {},
   "source": [
    "### 4.1- Cálculo de mediana\n"
   ]
  },
  {
   "cell_type": "markdown",
   "metadata": {},
   "source": [
    "Construiremos un clasificador que pronostique la mediana de las clasificaciones sobre el grado de humor del tweet"
   ]
  },
  {
   "cell_type": "code",
   "execution_count": 12,
   "metadata": {},
   "outputs": [
    {
     "name": "stdout",
     "output_type": "stream",
     "text": [
      "Matriz de confusión de Maxima Entropia con filtros: Z\n",
      "    |   0   1   2   3   4   5   6   7   8 |\n",
      "    |   .   .   .   .   .   .   .   .   . |\n",
      "    |   0   0   0   0   0   0   0   0   0 |\n",
      "----+-------------------------------------+\n",
      "0.0 |<311> 61  56  42  24   5   .   .   . |\n",
      "1.0 |   5  <9>  8  10   6   .   .   .   . |\n",
      "2.0 |  10  11 <13> 16   5   3   .   .   . |\n",
      "3.0 |   4  12  17 <21> 24   1   .   .   . |\n",
      "4.0 |   1   4   4   2  <2>  .   .   .   . |\n",
      "5.0 |   .   .   .   1   .  <.>  .   .   . |\n",
      "6.0 |   .   .   .   .   .   .  <.>  .   . |\n",
      "7.0 |   .   .   .   .   .   .   .  <.>  . |\n",
      "8.0 |   .   .   .   .   .   .   .   .  <.>|\n",
      "----+-------------------------------------+\n",
      "(row = reference; col = test)\n",
      "\n",
      "Accuracy: 0.517441860465\n"
     ]
    }
   ],
   "source": [
    "import nltk\n",
    "from nltk.metrics.scores import *\n",
    "\n",
    "corpus_pos_tagging = filtrar_corpus(corpus_train, [\"P\", \"S\", \"Z\",\"D\"], True, True, True, True,True)\n",
    "clf = nltk.classify.MaxentClassifier.train(corpus_pos_tagging, max_iter=8,trace=0)\n",
    "corpus_test_tokenizado = filtrar_corpus(corpus_test, [\"P\", \"S\", \"Z\",\"D\"], False, True, True, True)\n",
    "salidaClasificador = []\n",
    "salida = []\n",
    "cont = 0\n",
    "for tweet in corpus_test_tokenizado:\n",
    "    # Se obtiene la clasificacion del algoritmo para el comentario\n",
    "    clasificacion = clf.classify(tweet)\n",
    "    salidaClasificador.append(clasificacion)\n",
    "salida = corpus_test.loc[:, \"mediana\"]\n",
    "cm = nltk.ConfusionMatrix(salidaClasificador, salida)\n",
    "print(\"Matriz de confusión de Maxima Entropia con filtros: Z\")\n",
    "print(cm)\n",
    "acc = accuracy(salidaClasificador, salida)\n",
    "print(\"Accuracy: \" + str(acc))"
   ]
  },
  {
   "cell_type": "code",
   "execution_count": null,
   "metadata": {
    "collapsed": true
   },
   "outputs": [],
   "source": []
  }
 ],
 "metadata": {
  "anaconda-cloud": {},
  "celltoolbar": "Raw Cell Format",
  "kernelspec": {
   "display_name": "Python 3",
   "language": "python",
   "name": "python3"
  },
  "language_info": {
   "codemirror_mode": {
    "name": "ipython",
    "version": 3
   },
   "file_extension": ".py",
   "mimetype": "text/x-python",
   "name": "python",
   "nbconvert_exporter": "python",
   "pygments_lexer": "ipython3",
   "version": "3.6.3"
  },
  "widgets": {
   "state": {},
   "version": "1.1.2"
  }
 },
 "nbformat": 4,
 "nbformat_minor": 1
}
